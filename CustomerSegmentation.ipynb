{
  "cells": [
    {
      "cell_type": "markdown",
      "metadata": {},
      "source": [
        "# Customer Segmentation with K-Means Clustering\n",
        "### Import Libraries"
      ]
    },
    {
      "cell_type": "code",
      "execution_count": 1,
      "metadata": {
        "id": "bMxwJT3pjiH7"
      },
      "outputs": [],
      "source": [
        "import numpy as np, pandas as pd\n",
        "from datetime import timedelta\n",
        "from sklearn.cluster import KMeans\n",
        "from sklearn.preprocessing import StandardScaler\n",
        "from plotly import graph_objs as go"
      ]
    },
    {
      "cell_type": "markdown",
      "metadata": {},
      "source": [
        "### Load the Dataset"
      ]
    },
    {
      "cell_type": "code",
      "execution_count": 2,
      "metadata": {
        "colab": {
          "base_uri": "https://localhost:8080/",
          "height": 763
        },
        "id": "bNuCUW4o08ty",
        "outputId": "da84071a-127b-4b1c-bf73-e4324661a288"
      },
      "outputs": [
        {
          "data": {
            "text/html": [
              "<div>\n",
              "<style scoped>\n",
              "    .dataframe tbody tr th:only-of-type {\n",
              "        vertical-align: middle;\n",
              "    }\n",
              "\n",
              "    .dataframe tbody tr th {\n",
              "        vertical-align: top;\n",
              "    }\n",
              "\n",
              "    .dataframe thead th {\n",
              "        text-align: right;\n",
              "    }\n",
              "</style>\n",
              "<table border=\"1\" class=\"dataframe\">\n",
              "  <thead>\n",
              "    <tr style=\"text-align: right;\">\n",
              "      <th></th>\n",
              "      <th>InvoiceNo</th>\n",
              "      <th>StockCode</th>\n",
              "      <th>Description</th>\n",
              "      <th>Quantity</th>\n",
              "      <th>InvoiceDate</th>\n",
              "      <th>UnitPrice</th>\n",
              "      <th>CustomerID</th>\n",
              "      <th>Country</th>\n",
              "    </tr>\n",
              "    <tr>\n",
              "      <th>index</th>\n",
              "      <th></th>\n",
              "      <th></th>\n",
              "      <th></th>\n",
              "      <th></th>\n",
              "      <th></th>\n",
              "      <th></th>\n",
              "      <th></th>\n",
              "      <th></th>\n",
              "    </tr>\n",
              "  </thead>\n",
              "  <tbody>\n",
              "    <tr>\n",
              "      <th>0</th>\n",
              "      <td>536365</td>\n",
              "      <td>85123A</td>\n",
              "      <td>WHITE HANGING HEART T-LIGHT HOLDER</td>\n",
              "      <td>6</td>\n",
              "      <td>12/1/2010 8:26</td>\n",
              "      <td>2.55</td>\n",
              "      <td>17850.0</td>\n",
              "      <td>United Kingdom</td>\n",
              "    </tr>\n",
              "    <tr>\n",
              "      <th>1</th>\n",
              "      <td>536365</td>\n",
              "      <td>71053</td>\n",
              "      <td>WHITE METAL LANTERN</td>\n",
              "      <td>6</td>\n",
              "      <td>12/1/2010 8:26</td>\n",
              "      <td>3.39</td>\n",
              "      <td>17850.0</td>\n",
              "      <td>United Kingdom</td>\n",
              "    </tr>\n",
              "    <tr>\n",
              "      <th>2</th>\n",
              "      <td>536365</td>\n",
              "      <td>84406B</td>\n",
              "      <td>CREAM CUPID HEARTS COAT HANGER</td>\n",
              "      <td>8</td>\n",
              "      <td>12/1/2010 8:26</td>\n",
              "      <td>2.75</td>\n",
              "      <td>17850.0</td>\n",
              "      <td>United Kingdom</td>\n",
              "    </tr>\n",
              "    <tr>\n",
              "      <th>3</th>\n",
              "      <td>536365</td>\n",
              "      <td>84029G</td>\n",
              "      <td>KNITTED UNION FLAG HOT WATER BOTTLE</td>\n",
              "      <td>6</td>\n",
              "      <td>12/1/2010 8:26</td>\n",
              "      <td>3.39</td>\n",
              "      <td>17850.0</td>\n",
              "      <td>United Kingdom</td>\n",
              "    </tr>\n",
              "    <tr>\n",
              "      <th>4</th>\n",
              "      <td>536365</td>\n",
              "      <td>84029E</td>\n",
              "      <td>RED WOOLLY HOTTIE WHITE HEART.</td>\n",
              "      <td>6</td>\n",
              "      <td>12/1/2010 8:26</td>\n",
              "      <td>3.39</td>\n",
              "      <td>17850.0</td>\n",
              "      <td>United Kingdom</td>\n",
              "    </tr>\n",
              "  </tbody>\n",
              "</table>\n",
              "</div>"
            ],
            "text/plain": [
              "      InvoiceNo StockCode                          Description  Quantity  \\\n",
              "index                                                                      \n",
              "0        536365    85123A   WHITE HANGING HEART T-LIGHT HOLDER         6   \n",
              "1        536365     71053                  WHITE METAL LANTERN         6   \n",
              "2        536365    84406B       CREAM CUPID HEARTS COAT HANGER         8   \n",
              "3        536365    84029G  KNITTED UNION FLAG HOT WATER BOTTLE         6   \n",
              "4        536365    84029E       RED WOOLLY HOTTIE WHITE HEART.         6   \n",
              "\n",
              "          InvoiceDate  UnitPrice  CustomerID         Country  \n",
              "index                                                         \n",
              "0      12/1/2010 8:26       2.55     17850.0  United Kingdom  \n",
              "1      12/1/2010 8:26       3.39     17850.0  United Kingdom  \n",
              "2      12/1/2010 8:26       2.75     17850.0  United Kingdom  \n",
              "3      12/1/2010 8:26       3.39     17850.0  United Kingdom  \n",
              "4      12/1/2010 8:26       3.39     17850.0  United Kingdom  "
            ]
          },
          "execution_count": 2,
          "metadata": {},
          "output_type": "execute_result"
        }
      ],
      "source": [
        "transactions = pd.read_csv('customer_segmentation.csv', index_col='index')\n",
        "transactions.head()"
      ]
    },
    {
      "cell_type": "markdown",
      "metadata": {},
      "source": [
        "### Explore the Dataset"
      ]
    },
    {
      "cell_type": "code",
      "execution_count": 3,
      "metadata": {
        "colab": {
          "base_uri": "https://localhost:8080/",
          "height": 300
        },
        "id": "R3apunMQ1JOb",
        "outputId": "c76de08b-4cb7-4efc-fe25-ca3951525ef1"
      },
      "outputs": [
        {
          "name": "stdout",
          "output_type": "stream",
          "text": [
            "<class 'pandas.core.frame.DataFrame'>\n",
            "Int64Index: 541909 entries, 0 to 541908\n",
            "Data columns (total 8 columns):\n",
            " #   Column       Non-Null Count   Dtype  \n",
            "---  ------       --------------   -----  \n",
            " 0   InvoiceNo    541909 non-null  object \n",
            " 1   StockCode    541909 non-null  object \n",
            " 2   Description  540455 non-null  object \n",
            " 3   Quantity     541909 non-null  int64  \n",
            " 4   InvoiceDate  541909 non-null  object \n",
            " 5   UnitPrice    541909 non-null  float64\n",
            " 6   CustomerID   406829 non-null  float64\n",
            " 7   Country      541909 non-null  object \n",
            "dtypes: float64(2), int64(1), object(5)\n",
            "memory usage: 37.2+ MB\n"
          ]
        }
      ],
      "source": [
        "transactions.describe()\n",
        "transactions.info()"
      ]
    },
    {
      "cell_type": "code",
      "execution_count": 4,
      "metadata": {},
      "outputs": [
        {
          "data": {
            "text/plain": [
              "4372"
            ]
          },
          "execution_count": 4,
          "metadata": {},
          "output_type": "execute_result"
        }
      ],
      "source": [
        "transactions.InvoiceNo.nunique()\n",
        "transactions.CustomerID.nunique()"
      ]
    },
    {
      "cell_type": "markdown",
      "metadata": {},
      "source": [
        "### Drop Unnecessary Columns"
      ]
    },
    {
      "cell_type": "code",
      "execution_count": 5,
      "metadata": {},
      "outputs": [
        {
          "data": {
            "text/html": [
              "<div>\n",
              "<style scoped>\n",
              "    .dataframe tbody tr th:only-of-type {\n",
              "        vertical-align: middle;\n",
              "    }\n",
              "\n",
              "    .dataframe tbody tr th {\n",
              "        vertical-align: top;\n",
              "    }\n",
              "\n",
              "    .dataframe thead th {\n",
              "        text-align: right;\n",
              "    }\n",
              "</style>\n",
              "<table border=\"1\" class=\"dataframe\">\n",
              "  <thead>\n",
              "    <tr style=\"text-align: right;\">\n",
              "      <th></th>\n",
              "      <th>InvoiceNo</th>\n",
              "      <th>Quantity</th>\n",
              "      <th>InvoiceDate</th>\n",
              "      <th>UnitPrice</th>\n",
              "      <th>CustomerID</th>\n",
              "    </tr>\n",
              "    <tr>\n",
              "      <th>index</th>\n",
              "      <th></th>\n",
              "      <th></th>\n",
              "      <th></th>\n",
              "      <th></th>\n",
              "      <th></th>\n",
              "    </tr>\n",
              "  </thead>\n",
              "  <tbody>\n",
              "    <tr>\n",
              "      <th>0</th>\n",
              "      <td>536365</td>\n",
              "      <td>6</td>\n",
              "      <td>12/1/2010 8:26</td>\n",
              "      <td>2.55</td>\n",
              "      <td>17850.0</td>\n",
              "    </tr>\n",
              "    <tr>\n",
              "      <th>1</th>\n",
              "      <td>536365</td>\n",
              "      <td>6</td>\n",
              "      <td>12/1/2010 8:26</td>\n",
              "      <td>3.39</td>\n",
              "      <td>17850.0</td>\n",
              "    </tr>\n",
              "    <tr>\n",
              "      <th>2</th>\n",
              "      <td>536365</td>\n",
              "      <td>8</td>\n",
              "      <td>12/1/2010 8:26</td>\n",
              "      <td>2.75</td>\n",
              "      <td>17850.0</td>\n",
              "    </tr>\n",
              "    <tr>\n",
              "      <th>3</th>\n",
              "      <td>536365</td>\n",
              "      <td>6</td>\n",
              "      <td>12/1/2010 8:26</td>\n",
              "      <td>3.39</td>\n",
              "      <td>17850.0</td>\n",
              "    </tr>\n",
              "    <tr>\n",
              "      <th>4</th>\n",
              "      <td>536365</td>\n",
              "      <td>6</td>\n",
              "      <td>12/1/2010 8:26</td>\n",
              "      <td>3.39</td>\n",
              "      <td>17850.0</td>\n",
              "    </tr>\n",
              "    <tr>\n",
              "      <th>...</th>\n",
              "      <td>...</td>\n",
              "      <td>...</td>\n",
              "      <td>...</td>\n",
              "      <td>...</td>\n",
              "      <td>...</td>\n",
              "    </tr>\n",
              "    <tr>\n",
              "      <th>541904</th>\n",
              "      <td>581587</td>\n",
              "      <td>12</td>\n",
              "      <td>12/9/2011 12:50</td>\n",
              "      <td>0.85</td>\n",
              "      <td>12680.0</td>\n",
              "    </tr>\n",
              "    <tr>\n",
              "      <th>541905</th>\n",
              "      <td>581587</td>\n",
              "      <td>6</td>\n",
              "      <td>12/9/2011 12:50</td>\n",
              "      <td>2.10</td>\n",
              "      <td>12680.0</td>\n",
              "    </tr>\n",
              "    <tr>\n",
              "      <th>541906</th>\n",
              "      <td>581587</td>\n",
              "      <td>4</td>\n",
              "      <td>12/9/2011 12:50</td>\n",
              "      <td>4.15</td>\n",
              "      <td>12680.0</td>\n",
              "    </tr>\n",
              "    <tr>\n",
              "      <th>541907</th>\n",
              "      <td>581587</td>\n",
              "      <td>4</td>\n",
              "      <td>12/9/2011 12:50</td>\n",
              "      <td>4.15</td>\n",
              "      <td>12680.0</td>\n",
              "    </tr>\n",
              "    <tr>\n",
              "      <th>541908</th>\n",
              "      <td>581587</td>\n",
              "      <td>3</td>\n",
              "      <td>12/9/2011 12:50</td>\n",
              "      <td>4.95</td>\n",
              "      <td>12680.0</td>\n",
              "    </tr>\n",
              "  </tbody>\n",
              "</table>\n",
              "<p>541909 rows × 5 columns</p>\n",
              "</div>"
            ],
            "text/plain": [
              "       InvoiceNo  Quantity      InvoiceDate  UnitPrice  CustomerID\n",
              "index                                                             \n",
              "0         536365         6   12/1/2010 8:26       2.55     17850.0\n",
              "1         536365         6   12/1/2010 8:26       3.39     17850.0\n",
              "2         536365         8   12/1/2010 8:26       2.75     17850.0\n",
              "3         536365         6   12/1/2010 8:26       3.39     17850.0\n",
              "4         536365         6   12/1/2010 8:26       3.39     17850.0\n",
              "...          ...       ...              ...        ...         ...\n",
              "541904    581587        12  12/9/2011 12:50       0.85     12680.0\n",
              "541905    581587         6  12/9/2011 12:50       2.10     12680.0\n",
              "541906    581587         4  12/9/2011 12:50       4.15     12680.0\n",
              "541907    581587         4  12/9/2011 12:50       4.15     12680.0\n",
              "541908    581587         3  12/9/2011 12:50       4.95     12680.0\n",
              "\n",
              "[541909 rows x 5 columns]"
            ]
          },
          "execution_count": 5,
          "metadata": {},
          "output_type": "execute_result"
        }
      ],
      "source": [
        "transactions = transactions.drop(columns=['StockCode', 'Description', 'Country'])\n",
        "transactions"
      ]
    },
    {
      "cell_type": "markdown",
      "metadata": {},
      "source": [
        "### Treat Missing Values"
      ]
    },
    {
      "cell_type": "code",
      "execution_count": 6,
      "metadata": {},
      "outputs": [
        {
          "data": {
            "text/html": [
              "<div>\n",
              "<style scoped>\n",
              "    .dataframe tbody tr th:only-of-type {\n",
              "        vertical-align: middle;\n",
              "    }\n",
              "\n",
              "    .dataframe tbody tr th {\n",
              "        vertical-align: top;\n",
              "    }\n",
              "\n",
              "    .dataframe thead th {\n",
              "        text-align: right;\n",
              "    }\n",
              "</style>\n",
              "<table border=\"1\" class=\"dataframe\">\n",
              "  <thead>\n",
              "    <tr style=\"text-align: right;\">\n",
              "      <th></th>\n",
              "      <th>InvoiceNo</th>\n",
              "      <th>Quantity</th>\n",
              "      <th>InvoiceDate</th>\n",
              "      <th>UnitPrice</th>\n",
              "      <th>CustomerID</th>\n",
              "    </tr>\n",
              "    <tr>\n",
              "      <th>index</th>\n",
              "      <th></th>\n",
              "      <th></th>\n",
              "      <th></th>\n",
              "      <th></th>\n",
              "      <th></th>\n",
              "    </tr>\n",
              "  </thead>\n",
              "  <tbody>\n",
              "    <tr>\n",
              "      <th>0</th>\n",
              "      <td>536365</td>\n",
              "      <td>6</td>\n",
              "      <td>12/1/2010 8:26</td>\n",
              "      <td>2.55</td>\n",
              "      <td>17850.0</td>\n",
              "    </tr>\n",
              "    <tr>\n",
              "      <th>1</th>\n",
              "      <td>536365</td>\n",
              "      <td>6</td>\n",
              "      <td>12/1/2010 8:26</td>\n",
              "      <td>3.39</td>\n",
              "      <td>17850.0</td>\n",
              "    </tr>\n",
              "    <tr>\n",
              "      <th>2</th>\n",
              "      <td>536365</td>\n",
              "      <td>8</td>\n",
              "      <td>12/1/2010 8:26</td>\n",
              "      <td>2.75</td>\n",
              "      <td>17850.0</td>\n",
              "    </tr>\n",
              "    <tr>\n",
              "      <th>3</th>\n",
              "      <td>536365</td>\n",
              "      <td>6</td>\n",
              "      <td>12/1/2010 8:26</td>\n",
              "      <td>3.39</td>\n",
              "      <td>17850.0</td>\n",
              "    </tr>\n",
              "    <tr>\n",
              "      <th>4</th>\n",
              "      <td>536365</td>\n",
              "      <td>6</td>\n",
              "      <td>12/1/2010 8:26</td>\n",
              "      <td>3.39</td>\n",
              "      <td>17850.0</td>\n",
              "    </tr>\n",
              "    <tr>\n",
              "      <th>...</th>\n",
              "      <td>...</td>\n",
              "      <td>...</td>\n",
              "      <td>...</td>\n",
              "      <td>...</td>\n",
              "      <td>...</td>\n",
              "    </tr>\n",
              "    <tr>\n",
              "      <th>541904</th>\n",
              "      <td>581587</td>\n",
              "      <td>12</td>\n",
              "      <td>12/9/2011 12:50</td>\n",
              "      <td>0.85</td>\n",
              "      <td>12680.0</td>\n",
              "    </tr>\n",
              "    <tr>\n",
              "      <th>541905</th>\n",
              "      <td>581587</td>\n",
              "      <td>6</td>\n",
              "      <td>12/9/2011 12:50</td>\n",
              "      <td>2.10</td>\n",
              "      <td>12680.0</td>\n",
              "    </tr>\n",
              "    <tr>\n",
              "      <th>541906</th>\n",
              "      <td>581587</td>\n",
              "      <td>4</td>\n",
              "      <td>12/9/2011 12:50</td>\n",
              "      <td>4.15</td>\n",
              "      <td>12680.0</td>\n",
              "    </tr>\n",
              "    <tr>\n",
              "      <th>541907</th>\n",
              "      <td>581587</td>\n",
              "      <td>4</td>\n",
              "      <td>12/9/2011 12:50</td>\n",
              "      <td>4.15</td>\n",
              "      <td>12680.0</td>\n",
              "    </tr>\n",
              "    <tr>\n",
              "      <th>541908</th>\n",
              "      <td>581587</td>\n",
              "      <td>3</td>\n",
              "      <td>12/9/2011 12:50</td>\n",
              "      <td>4.95</td>\n",
              "      <td>12680.0</td>\n",
              "    </tr>\n",
              "  </tbody>\n",
              "</table>\n",
              "<p>406829 rows × 5 columns</p>\n",
              "</div>"
            ],
            "text/plain": [
              "       InvoiceNo  Quantity      InvoiceDate  UnitPrice  CustomerID\n",
              "index                                                             \n",
              "0         536365         6   12/1/2010 8:26       2.55     17850.0\n",
              "1         536365         6   12/1/2010 8:26       3.39     17850.0\n",
              "2         536365         8   12/1/2010 8:26       2.75     17850.0\n",
              "3         536365         6   12/1/2010 8:26       3.39     17850.0\n",
              "4         536365         6   12/1/2010 8:26       3.39     17850.0\n",
              "...          ...       ...              ...        ...         ...\n",
              "541904    581587        12  12/9/2011 12:50       0.85     12680.0\n",
              "541905    581587         6  12/9/2011 12:50       2.10     12680.0\n",
              "541906    581587         4  12/9/2011 12:50       4.15     12680.0\n",
              "541907    581587         4  12/9/2011 12:50       4.15     12680.0\n",
              "541908    581587         3  12/9/2011 12:50       4.95     12680.0\n",
              "\n",
              "[406829 rows x 5 columns]"
            ]
          },
          "execution_count": 6,
          "metadata": {},
          "output_type": "execute_result"
        }
      ],
      "source": [
        "transactions = transactions.dropna()\n",
        "transactions"
      ]
    },
    {
      "cell_type": "markdown",
      "metadata": {},
      "source": [
        "### Calculate Total Price per Item"
      ]
    },
    {
      "cell_type": "code",
      "execution_count": 7,
      "metadata": {},
      "outputs": [
        {
          "name": "stderr",
          "output_type": "stream",
          "text": [
            "/opt/anaconda3/lib/python3.8/site-packages/pandas/core/indexing.py:1596: SettingWithCopyWarning: \n",
            "A value is trying to be set on a copy of a slice from a DataFrame.\n",
            "Try using .loc[row_indexer,col_indexer] = value instead\n",
            "\n",
            "See the caveats in the documentation: https://pandas.pydata.org/pandas-docs/stable/user_guide/indexing.html#returning-a-view-versus-a-copy\n",
            "  self.obj[key] = _infer_fill_value(value)\n",
            "/opt/anaconda3/lib/python3.8/site-packages/pandas/core/indexing.py:1745: SettingWithCopyWarning: \n",
            "A value is trying to be set on a copy of a slice from a DataFrame.\n",
            "Try using .loc[row_indexer,col_indexer] = value instead\n",
            "\n",
            "See the caveats in the documentation: https://pandas.pydata.org/pandas-docs/stable/user_guide/indexing.html#returning-a-view-versus-a-copy\n",
            "  isetter(ilocs[0], value)\n"
          ]
        },
        {
          "data": {
            "text/html": [
              "<div>\n",
              "<style scoped>\n",
              "    .dataframe tbody tr th:only-of-type {\n",
              "        vertical-align: middle;\n",
              "    }\n",
              "\n",
              "    .dataframe tbody tr th {\n",
              "        vertical-align: top;\n",
              "    }\n",
              "\n",
              "    .dataframe thead th {\n",
              "        text-align: right;\n",
              "    }\n",
              "</style>\n",
              "<table border=\"1\" class=\"dataframe\">\n",
              "  <thead>\n",
              "    <tr style=\"text-align: right;\">\n",
              "      <th></th>\n",
              "      <th>InvoiceNo</th>\n",
              "      <th>Quantity</th>\n",
              "      <th>InvoiceDate</th>\n",
              "      <th>UnitPrice</th>\n",
              "      <th>CustomerID</th>\n",
              "      <th>Price</th>\n",
              "    </tr>\n",
              "    <tr>\n",
              "      <th>index</th>\n",
              "      <th></th>\n",
              "      <th></th>\n",
              "      <th></th>\n",
              "      <th></th>\n",
              "      <th></th>\n",
              "      <th></th>\n",
              "    </tr>\n",
              "  </thead>\n",
              "  <tbody>\n",
              "    <tr>\n",
              "      <th>0</th>\n",
              "      <td>536365</td>\n",
              "      <td>6</td>\n",
              "      <td>12/1/2010 8:26</td>\n",
              "      <td>2.55</td>\n",
              "      <td>17850.0</td>\n",
              "      <td>15.30</td>\n",
              "    </tr>\n",
              "    <tr>\n",
              "      <th>1</th>\n",
              "      <td>536365</td>\n",
              "      <td>6</td>\n",
              "      <td>12/1/2010 8:26</td>\n",
              "      <td>3.39</td>\n",
              "      <td>17850.0</td>\n",
              "      <td>20.34</td>\n",
              "    </tr>\n",
              "    <tr>\n",
              "      <th>2</th>\n",
              "      <td>536365</td>\n",
              "      <td>8</td>\n",
              "      <td>12/1/2010 8:26</td>\n",
              "      <td>2.75</td>\n",
              "      <td>17850.0</td>\n",
              "      <td>22.00</td>\n",
              "    </tr>\n",
              "    <tr>\n",
              "      <th>3</th>\n",
              "      <td>536365</td>\n",
              "      <td>6</td>\n",
              "      <td>12/1/2010 8:26</td>\n",
              "      <td>3.39</td>\n",
              "      <td>17850.0</td>\n",
              "      <td>20.34</td>\n",
              "    </tr>\n",
              "    <tr>\n",
              "      <th>4</th>\n",
              "      <td>536365</td>\n",
              "      <td>6</td>\n",
              "      <td>12/1/2010 8:26</td>\n",
              "      <td>3.39</td>\n",
              "      <td>17850.0</td>\n",
              "      <td>20.34</td>\n",
              "    </tr>\n",
              "    <tr>\n",
              "      <th>...</th>\n",
              "      <td>...</td>\n",
              "      <td>...</td>\n",
              "      <td>...</td>\n",
              "      <td>...</td>\n",
              "      <td>...</td>\n",
              "      <td>...</td>\n",
              "    </tr>\n",
              "    <tr>\n",
              "      <th>541904</th>\n",
              "      <td>581587</td>\n",
              "      <td>12</td>\n",
              "      <td>12/9/2011 12:50</td>\n",
              "      <td>0.85</td>\n",
              "      <td>12680.0</td>\n",
              "      <td>10.20</td>\n",
              "    </tr>\n",
              "    <tr>\n",
              "      <th>541905</th>\n",
              "      <td>581587</td>\n",
              "      <td>6</td>\n",
              "      <td>12/9/2011 12:50</td>\n",
              "      <td>2.10</td>\n",
              "      <td>12680.0</td>\n",
              "      <td>12.60</td>\n",
              "    </tr>\n",
              "    <tr>\n",
              "      <th>541906</th>\n",
              "      <td>581587</td>\n",
              "      <td>4</td>\n",
              "      <td>12/9/2011 12:50</td>\n",
              "      <td>4.15</td>\n",
              "      <td>12680.0</td>\n",
              "      <td>16.60</td>\n",
              "    </tr>\n",
              "    <tr>\n",
              "      <th>541907</th>\n",
              "      <td>581587</td>\n",
              "      <td>4</td>\n",
              "      <td>12/9/2011 12:50</td>\n",
              "      <td>4.15</td>\n",
              "      <td>12680.0</td>\n",
              "      <td>16.60</td>\n",
              "    </tr>\n",
              "    <tr>\n",
              "      <th>541908</th>\n",
              "      <td>581587</td>\n",
              "      <td>3</td>\n",
              "      <td>12/9/2011 12:50</td>\n",
              "      <td>4.95</td>\n",
              "      <td>12680.0</td>\n",
              "      <td>14.85</td>\n",
              "    </tr>\n",
              "  </tbody>\n",
              "</table>\n",
              "<p>406829 rows × 6 columns</p>\n",
              "</div>"
            ],
            "text/plain": [
              "       InvoiceNo  Quantity      InvoiceDate  UnitPrice  CustomerID  Price\n",
              "index                                                                    \n",
              "0         536365         6   12/1/2010 8:26       2.55     17850.0  15.30\n",
              "1         536365         6   12/1/2010 8:26       3.39     17850.0  20.34\n",
              "2         536365         8   12/1/2010 8:26       2.75     17850.0  22.00\n",
              "3         536365         6   12/1/2010 8:26       3.39     17850.0  20.34\n",
              "4         536365         6   12/1/2010 8:26       3.39     17850.0  20.34\n",
              "...          ...       ...              ...        ...         ...    ...\n",
              "541904    581587        12  12/9/2011 12:50       0.85     12680.0  10.20\n",
              "541905    581587         6  12/9/2011 12:50       2.10     12680.0  12.60\n",
              "541906    581587         4  12/9/2011 12:50       4.15     12680.0  16.60\n",
              "541907    581587         4  12/9/2011 12:50       4.15     12680.0  16.60\n",
              "541908    581587         3  12/9/2011 12:50       4.95     12680.0  14.85\n",
              "\n",
              "[406829 rows x 6 columns]"
            ]
          },
          "execution_count": 7,
          "metadata": {},
          "output_type": "execute_result"
        }
      ],
      "source": [
        "transactions.loc[:, 'Price'] = transactions['Quantity'] * transactions['UnitPrice']\n",
        "transactions"
      ]
    },
    {
      "cell_type": "markdown",
      "metadata": {},
      "source": [
        "\n",
        "### Calculate Recency of the Purchase"
      ]
    },
    {
      "cell_type": "code",
      "execution_count": 8,
      "metadata": {},
      "outputs": [
        {
          "data": {
            "text/html": [
              "<div>\n",
              "<style scoped>\n",
              "    .dataframe tbody tr th:only-of-type {\n",
              "        vertical-align: middle;\n",
              "    }\n",
              "\n",
              "    .dataframe tbody tr th {\n",
              "        vertical-align: top;\n",
              "    }\n",
              "\n",
              "    .dataframe thead th {\n",
              "        text-align: right;\n",
              "    }\n",
              "</style>\n",
              "<table border=\"1\" class=\"dataframe\">\n",
              "  <thead>\n",
              "    <tr style=\"text-align: right;\">\n",
              "      <th></th>\n",
              "      <th>CustomerID</th>\n",
              "      <th>Recency</th>\n",
              "    </tr>\n",
              "  </thead>\n",
              "  <tbody>\n",
              "    <tr>\n",
              "      <th>0</th>\n",
              "      <td>12346.0</td>\n",
              "      <td>1/18/2011 10:17</td>\n",
              "    </tr>\n",
              "    <tr>\n",
              "      <th>1</th>\n",
              "      <td>12347.0</td>\n",
              "      <td>8/2/2011 8:48</td>\n",
              "    </tr>\n",
              "    <tr>\n",
              "      <th>2</th>\n",
              "      <td>12348.0</td>\n",
              "      <td>9/25/2011 13:13</td>\n",
              "    </tr>\n",
              "    <tr>\n",
              "      <th>3</th>\n",
              "      <td>12349.0</td>\n",
              "      <td>11/21/2011 9:51</td>\n",
              "    </tr>\n",
              "    <tr>\n",
              "      <th>4</th>\n",
              "      <td>12350.0</td>\n",
              "      <td>2/2/2011 16:01</td>\n",
              "    </tr>\n",
              "    <tr>\n",
              "      <th>...</th>\n",
              "      <td>...</td>\n",
              "      <td>...</td>\n",
              "    </tr>\n",
              "    <tr>\n",
              "      <th>4367</th>\n",
              "      <td>18280.0</td>\n",
              "      <td>3/7/2011 9:52</td>\n",
              "    </tr>\n",
              "    <tr>\n",
              "      <th>4368</th>\n",
              "      <td>18281.0</td>\n",
              "      <td>6/12/2011 10:53</td>\n",
              "    </tr>\n",
              "    <tr>\n",
              "      <th>4369</th>\n",
              "      <td>18282.0</td>\n",
              "      <td>8/9/2011 15:10</td>\n",
              "    </tr>\n",
              "    <tr>\n",
              "      <th>4370</th>\n",
              "      <td>18283.0</td>\n",
              "      <td>9/5/2011 12:35</td>\n",
              "    </tr>\n",
              "    <tr>\n",
              "      <th>4371</th>\n",
              "      <td>18287.0</td>\n",
              "      <td>5/22/2011 10:39</td>\n",
              "    </tr>\n",
              "  </tbody>\n",
              "</table>\n",
              "<p>4372 rows × 2 columns</p>\n",
              "</div>"
            ],
            "text/plain": [
              "      CustomerID          Recency\n",
              "0        12346.0  1/18/2011 10:17\n",
              "1        12347.0    8/2/2011 8:48\n",
              "2        12348.0  9/25/2011 13:13\n",
              "3        12349.0  11/21/2011 9:51\n",
              "4        12350.0   2/2/2011 16:01\n",
              "...          ...              ...\n",
              "4367     18280.0    3/7/2011 9:52\n",
              "4368     18281.0  6/12/2011 10:53\n",
              "4369     18282.0   8/9/2011 15:10\n",
              "4370     18283.0   9/5/2011 12:35\n",
              "4371     18287.0  5/22/2011 10:39\n",
              "\n",
              "[4372 rows x 2 columns]"
            ]
          },
          "execution_count": 8,
          "metadata": {},
          "output_type": "execute_result"
        }
      ],
      "source": [
        "purchase_recency = transactions.groupby('CustomerID')['InvoiceDate'].agg('max').reset_index(name='Recency')\n",
        "purchase_recency"
      ]
    },
    {
      "cell_type": "markdown",
      "metadata": {},
      "source": [
        "### Apt the Column's Datatype"
      ]
    },
    {
      "cell_type": "code",
      "execution_count": 9,
      "metadata": {},
      "outputs": [
        {
          "data": {
            "text/html": [
              "<div>\n",
              "<style scoped>\n",
              "    .dataframe tbody tr th:only-of-type {\n",
              "        vertical-align: middle;\n",
              "    }\n",
              "\n",
              "    .dataframe tbody tr th {\n",
              "        vertical-align: top;\n",
              "    }\n",
              "\n",
              "    .dataframe thead th {\n",
              "        text-align: right;\n",
              "    }\n",
              "</style>\n",
              "<table border=\"1\" class=\"dataframe\">\n",
              "  <thead>\n",
              "    <tr style=\"text-align: right;\">\n",
              "      <th></th>\n",
              "      <th>CustomerID</th>\n",
              "      <th>Recency</th>\n",
              "    </tr>\n",
              "  </thead>\n",
              "  <tbody>\n",
              "    <tr>\n",
              "      <th>0</th>\n",
              "      <td>12346.0</td>\n",
              "      <td>326</td>\n",
              "    </tr>\n",
              "    <tr>\n",
              "      <th>1</th>\n",
              "      <td>12347.0</td>\n",
              "      <td>130</td>\n",
              "    </tr>\n",
              "    <tr>\n",
              "      <th>2</th>\n",
              "      <td>12348.0</td>\n",
              "      <td>75</td>\n",
              "    </tr>\n",
              "    <tr>\n",
              "      <th>3</th>\n",
              "      <td>12349.0</td>\n",
              "      <td>19</td>\n",
              "    </tr>\n",
              "    <tr>\n",
              "      <th>4</th>\n",
              "      <td>12350.0</td>\n",
              "      <td>310</td>\n",
              "    </tr>\n",
              "    <tr>\n",
              "      <th>...</th>\n",
              "      <td>...</td>\n",
              "      <td>...</td>\n",
              "    </tr>\n",
              "    <tr>\n",
              "      <th>4367</th>\n",
              "      <td>18280.0</td>\n",
              "      <td>278</td>\n",
              "    </tr>\n",
              "    <tr>\n",
              "      <th>4368</th>\n",
              "      <td>18281.0</td>\n",
              "      <td>181</td>\n",
              "    </tr>\n",
              "    <tr>\n",
              "      <th>4369</th>\n",
              "      <td>18282.0</td>\n",
              "      <td>122</td>\n",
              "    </tr>\n",
              "    <tr>\n",
              "      <th>4370</th>\n",
              "      <td>18283.0</td>\n",
              "      <td>95</td>\n",
              "    </tr>\n",
              "    <tr>\n",
              "      <th>4371</th>\n",
              "      <td>18287.0</td>\n",
              "      <td>202</td>\n",
              "    </tr>\n",
              "  </tbody>\n",
              "</table>\n",
              "<p>4372 rows × 2 columns</p>\n",
              "</div>"
            ],
            "text/plain": [
              "      CustomerID  Recency\n",
              "0        12346.0      326\n",
              "1        12347.0      130\n",
              "2        12348.0       75\n",
              "3        12349.0       19\n",
              "4        12350.0      310\n",
              "...          ...      ...\n",
              "4367     18280.0      278\n",
              "4368     18281.0      181\n",
              "4369     18282.0      122\n",
              "4370     18283.0       95\n",
              "4371     18287.0      202\n",
              "\n",
              "[4372 rows x 2 columns]"
            ]
          },
          "execution_count": 9,
          "metadata": {},
          "output_type": "execute_result"
        }
      ],
      "source": [
        "purchase_recency.Recency = purchase_recency.Recency.astype(dtype='datetime64[ns]')\n",
        "most_recent_date = max(purchase_recency.Recency)\n",
        "purchase_recency.Recency = most_recent_date - purchase_recency.Recency\n",
        "purchase_recency.Recency = purchase_recency.Recency.apply(lambda x : x.days) + 1\n",
        "purchase_recency"
      ]
    },
    {
      "cell_type": "markdown",
      "metadata": {},
      "source": [
        "\n",
        "### Calculate the Purchase Frequency of Customer"
      ]
    },
    {
      "cell_type": "code",
      "execution_count": 10,
      "metadata": {},
      "outputs": [],
      "source": [
        "purchase_frequency = transactions.groupby('CustomerID')['CustomerID'].agg('count').reset_index(name='Frequency')"
      ]
    },
    {
      "cell_type": "markdown",
      "metadata": {},
      "source": [
        "### Calculate the Monetary Value per Customer"
      ]
    },
    {
      "cell_type": "code",
      "execution_count": 11,
      "metadata": {},
      "outputs": [
        {
          "data": {
            "text/html": [
              "<div>\n",
              "<style scoped>\n",
              "    .dataframe tbody tr th:only-of-type {\n",
              "        vertical-align: middle;\n",
              "    }\n",
              "\n",
              "    .dataframe tbody tr th {\n",
              "        vertical-align: top;\n",
              "    }\n",
              "\n",
              "    .dataframe thead th {\n",
              "        text-align: right;\n",
              "    }\n",
              "</style>\n",
              "<table border=\"1\" class=\"dataframe\">\n",
              "  <thead>\n",
              "    <tr style=\"text-align: right;\">\n",
              "      <th></th>\n",
              "      <th>CustomerID</th>\n",
              "      <th>Monetary</th>\n",
              "    </tr>\n",
              "  </thead>\n",
              "  <tbody>\n",
              "    <tr>\n",
              "      <th>0</th>\n",
              "      <td>12346.0</td>\n",
              "      <td>0.00</td>\n",
              "    </tr>\n",
              "    <tr>\n",
              "      <th>1</th>\n",
              "      <td>12347.0</td>\n",
              "      <td>4310.00</td>\n",
              "    </tr>\n",
              "    <tr>\n",
              "      <th>2</th>\n",
              "      <td>12348.0</td>\n",
              "      <td>1797.24</td>\n",
              "    </tr>\n",
              "    <tr>\n",
              "      <th>3</th>\n",
              "      <td>12349.0</td>\n",
              "      <td>1757.55</td>\n",
              "    </tr>\n",
              "    <tr>\n",
              "      <th>4</th>\n",
              "      <td>12350.0</td>\n",
              "      <td>334.40</td>\n",
              "    </tr>\n",
              "    <tr>\n",
              "      <th>...</th>\n",
              "      <td>...</td>\n",
              "      <td>...</td>\n",
              "    </tr>\n",
              "    <tr>\n",
              "      <th>4367</th>\n",
              "      <td>18280.0</td>\n",
              "      <td>180.60</td>\n",
              "    </tr>\n",
              "    <tr>\n",
              "      <th>4368</th>\n",
              "      <td>18281.0</td>\n",
              "      <td>80.82</td>\n",
              "    </tr>\n",
              "    <tr>\n",
              "      <th>4369</th>\n",
              "      <td>18282.0</td>\n",
              "      <td>176.60</td>\n",
              "    </tr>\n",
              "    <tr>\n",
              "      <th>4370</th>\n",
              "      <td>18283.0</td>\n",
              "      <td>2094.88</td>\n",
              "    </tr>\n",
              "    <tr>\n",
              "      <th>4371</th>\n",
              "      <td>18287.0</td>\n",
              "      <td>1837.28</td>\n",
              "    </tr>\n",
              "  </tbody>\n",
              "</table>\n",
              "<p>4372 rows × 2 columns</p>\n",
              "</div>"
            ],
            "text/plain": [
              "      CustomerID  Monetary\n",
              "0        12346.0      0.00\n",
              "1        12347.0   4310.00\n",
              "2        12348.0   1797.24\n",
              "3        12349.0   1757.55\n",
              "4        12350.0    334.40\n",
              "...          ...       ...\n",
              "4367     18280.0    180.60\n",
              "4368     18281.0     80.82\n",
              "4369     18282.0    176.60\n",
              "4370     18283.0   2094.88\n",
              "4371     18287.0   1837.28\n",
              "\n",
              "[4372 rows x 2 columns]"
            ]
          },
          "execution_count": 11,
          "metadata": {},
          "output_type": "execute_result"
        }
      ],
      "source": [
        "purchase_amounts = transactions.groupby('CustomerID')['Price'].agg('sum').reset_index(name='Monetary')\n",
        "purchase_amounts"
      ]
    },
    {
      "cell_type": "markdown",
      "metadata": {},
      "source": [
        "### Prepare the Data"
      ]
    },
    {
      "cell_type": "code",
      "execution_count": 12,
      "metadata": {},
      "outputs": [
        {
          "data": {
            "text/html": [
              "<div>\n",
              "<style scoped>\n",
              "    .dataframe tbody tr th:only-of-type {\n",
              "        vertical-align: middle;\n",
              "    }\n",
              "\n",
              "    .dataframe tbody tr th {\n",
              "        vertical-align: top;\n",
              "    }\n",
              "\n",
              "    .dataframe thead th {\n",
              "        text-align: right;\n",
              "    }\n",
              "</style>\n",
              "<table border=\"1\" class=\"dataframe\">\n",
              "  <thead>\n",
              "    <tr style=\"text-align: right;\">\n",
              "      <th></th>\n",
              "      <th>CustomerID</th>\n",
              "      <th>Recency</th>\n",
              "      <th>Frequency</th>\n",
              "      <th>Monetary</th>\n",
              "    </tr>\n",
              "  </thead>\n",
              "  <tbody>\n",
              "    <tr>\n",
              "      <th>0</th>\n",
              "      <td>12346.0</td>\n",
              "      <td>326</td>\n",
              "      <td>2</td>\n",
              "      <td>0.00</td>\n",
              "    </tr>\n",
              "    <tr>\n",
              "      <th>1</th>\n",
              "      <td>12347.0</td>\n",
              "      <td>130</td>\n",
              "      <td>182</td>\n",
              "      <td>4310.00</td>\n",
              "    </tr>\n",
              "    <tr>\n",
              "      <th>2</th>\n",
              "      <td>12348.0</td>\n",
              "      <td>75</td>\n",
              "      <td>31</td>\n",
              "      <td>1797.24</td>\n",
              "    </tr>\n",
              "    <tr>\n",
              "      <th>3</th>\n",
              "      <td>12349.0</td>\n",
              "      <td>19</td>\n",
              "      <td>73</td>\n",
              "      <td>1757.55</td>\n",
              "    </tr>\n",
              "    <tr>\n",
              "      <th>4</th>\n",
              "      <td>12350.0</td>\n",
              "      <td>310</td>\n",
              "      <td>17</td>\n",
              "      <td>334.40</td>\n",
              "    </tr>\n",
              "    <tr>\n",
              "      <th>...</th>\n",
              "      <td>...</td>\n",
              "      <td>...</td>\n",
              "      <td>...</td>\n",
              "      <td>...</td>\n",
              "    </tr>\n",
              "    <tr>\n",
              "      <th>4367</th>\n",
              "      <td>18280.0</td>\n",
              "      <td>278</td>\n",
              "      <td>10</td>\n",
              "      <td>180.60</td>\n",
              "    </tr>\n",
              "    <tr>\n",
              "      <th>4368</th>\n",
              "      <td>18281.0</td>\n",
              "      <td>181</td>\n",
              "      <td>7</td>\n",
              "      <td>80.82</td>\n",
              "    </tr>\n",
              "    <tr>\n",
              "      <th>4369</th>\n",
              "      <td>18282.0</td>\n",
              "      <td>122</td>\n",
              "      <td>13</td>\n",
              "      <td>176.60</td>\n",
              "    </tr>\n",
              "    <tr>\n",
              "      <th>4370</th>\n",
              "      <td>18283.0</td>\n",
              "      <td>95</td>\n",
              "      <td>756</td>\n",
              "      <td>2094.88</td>\n",
              "    </tr>\n",
              "    <tr>\n",
              "      <th>4371</th>\n",
              "      <td>18287.0</td>\n",
              "      <td>202</td>\n",
              "      <td>70</td>\n",
              "      <td>1837.28</td>\n",
              "    </tr>\n",
              "  </tbody>\n",
              "</table>\n",
              "<p>4372 rows × 4 columns</p>\n",
              "</div>"
            ],
            "text/plain": [
              "      CustomerID  Recency  Frequency  Monetary\n",
              "0        12346.0      326          2      0.00\n",
              "1        12347.0      130        182   4310.00\n",
              "2        12348.0       75         31   1797.24\n",
              "3        12349.0       19         73   1757.55\n",
              "4        12350.0      310         17    334.40\n",
              "...          ...      ...        ...       ...\n",
              "4367     18280.0      278         10    180.60\n",
              "4368     18281.0      181          7     80.82\n",
              "4369     18282.0      122         13    176.60\n",
              "4370     18283.0       95        756   2094.88\n",
              "4371     18287.0      202         70   1837.28\n",
              "\n",
              "[4372 rows x 4 columns]"
            ]
          },
          "execution_count": 12,
          "metadata": {},
          "output_type": "execute_result"
        }
      ],
      "source": [
        "rfm_data = purchase_recency.merge(purchase_frequency, on='CustomerID', how='outer').merge(purchase_amounts, on='CustomerID', how='outer')\n",
        "rfm_data"
      ]
    },
    {
      "cell_type": "code",
      "execution_count": 13,
      "metadata": {},
      "outputs": [
        {
          "data": {
            "text/html": [
              "<div>\n",
              "<style scoped>\n",
              "    .dataframe tbody tr th:only-of-type {\n",
              "        vertical-align: middle;\n",
              "    }\n",
              "\n",
              "    .dataframe tbody tr th {\n",
              "        vertical-align: top;\n",
              "    }\n",
              "\n",
              "    .dataframe thead th {\n",
              "        text-align: right;\n",
              "    }\n",
              "</style>\n",
              "<table border=\"1\" class=\"dataframe\">\n",
              "  <thead>\n",
              "    <tr style=\"text-align: right;\">\n",
              "      <th></th>\n",
              "      <th>CustomerID</th>\n",
              "      <th>Recency</th>\n",
              "      <th>Frequency</th>\n",
              "      <th>Monetary</th>\n",
              "    </tr>\n",
              "  </thead>\n",
              "  <tbody>\n",
              "    <tr>\n",
              "      <th>0</th>\n",
              "      <td>12346.0</td>\n",
              "      <td>2.004230</td>\n",
              "      <td>-0.391720</td>\n",
              "      <td>-0.231001</td>\n",
              "    </tr>\n",
              "    <tr>\n",
              "      <th>1</th>\n",
              "      <td>12347.0</td>\n",
              "      <td>-0.094704</td>\n",
              "      <td>0.382657</td>\n",
              "      <td>0.293432</td>\n",
              "    </tr>\n",
              "    <tr>\n",
              "      <th>2</th>\n",
              "      <td>12348.0</td>\n",
              "      <td>-0.683691</td>\n",
              "      <td>-0.266959</td>\n",
              "      <td>-0.012316</td>\n",
              "    </tr>\n",
              "    <tr>\n",
              "      <th>3</th>\n",
              "      <td>12349.0</td>\n",
              "      <td>-1.283386</td>\n",
              "      <td>-0.086271</td>\n",
              "      <td>-0.017146</td>\n",
              "    </tr>\n",
              "    <tr>\n",
              "      <th>4</th>\n",
              "      <td>12350.0</td>\n",
              "      <td>1.832888</td>\n",
              "      <td>-0.327188</td>\n",
              "      <td>-0.190312</td>\n",
              "    </tr>\n",
              "    <tr>\n",
              "      <th>...</th>\n",
              "      <td>...</td>\n",
              "      <td>...</td>\n",
              "      <td>...</td>\n",
              "      <td>...</td>\n",
              "    </tr>\n",
              "    <tr>\n",
              "      <th>4367</th>\n",
              "      <td>18280.0</td>\n",
              "      <td>1.490205</td>\n",
              "      <td>-0.357303</td>\n",
              "      <td>-0.209026</td>\n",
              "    </tr>\n",
              "    <tr>\n",
              "      <th>4368</th>\n",
              "      <td>18281.0</td>\n",
              "      <td>0.451447</td>\n",
              "      <td>-0.370209</td>\n",
              "      <td>-0.221167</td>\n",
              "    </tr>\n",
              "    <tr>\n",
              "      <th>4369</th>\n",
              "      <td>18282.0</td>\n",
              "      <td>-0.180375</td>\n",
              "      <td>-0.344397</td>\n",
              "      <td>-0.209513</td>\n",
              "    </tr>\n",
              "    <tr>\n",
              "      <th>4370</th>\n",
              "      <td>18283.0</td>\n",
              "      <td>-0.469514</td>\n",
              "      <td>2.852058</td>\n",
              "      <td>0.023900</td>\n",
              "    </tr>\n",
              "    <tr>\n",
              "      <th>4371</th>\n",
              "      <td>18287.0</td>\n",
              "      <td>0.676333</td>\n",
              "      <td>-0.099177</td>\n",
              "      <td>-0.007444</td>\n",
              "    </tr>\n",
              "  </tbody>\n",
              "</table>\n",
              "<p>4372 rows × 4 columns</p>\n",
              "</div>"
            ],
            "text/plain": [
              "      CustomerID   Recency  Frequency  Monetary\n",
              "0        12346.0  2.004230  -0.391720 -0.231001\n",
              "1        12347.0 -0.094704   0.382657  0.293432\n",
              "2        12348.0 -0.683691  -0.266959 -0.012316\n",
              "3        12349.0 -1.283386  -0.086271 -0.017146\n",
              "4        12350.0  1.832888  -0.327188 -0.190312\n",
              "...          ...       ...        ...       ...\n",
              "4367     18280.0  1.490205  -0.357303 -0.209026\n",
              "4368     18281.0  0.451447  -0.370209 -0.221167\n",
              "4369     18282.0 -0.180375  -0.344397 -0.209513\n",
              "4370     18283.0 -0.469514   2.852058  0.023900\n",
              "4371     18287.0  0.676333  -0.099177 -0.007444\n",
              "\n",
              "[4372 rows x 4 columns]"
            ]
          },
          "execution_count": 13,
          "metadata": {},
          "output_type": "execute_result"
        }
      ],
      "source": [
        "clms_to_scale = ['Recency', 'Frequency', 'Monetary']\n",
        "scaler = StandardScaler()\n",
        "rfm_data[clms_to_scale] = scaler.fit_transform(rfm_data[clms_to_scale])\n",
        "rfm_data"
      ]
    },
    {
      "cell_type": "code",
      "execution_count": 14,
      "metadata": {},
      "outputs": [
        {
          "data": {
            "text/html": [
              "<div>\n",
              "<style scoped>\n",
              "    .dataframe tbody tr th:only-of-type {\n",
              "        vertical-align: middle;\n",
              "    }\n",
              "\n",
              "    .dataframe tbody tr th {\n",
              "        vertical-align: top;\n",
              "    }\n",
              "\n",
              "    .dataframe thead th {\n",
              "        text-align: right;\n",
              "    }\n",
              "</style>\n",
              "<table border=\"1\" class=\"dataframe\">\n",
              "  <thead>\n",
              "    <tr style=\"text-align: right;\">\n",
              "      <th></th>\n",
              "      <th>Recency</th>\n",
              "      <th>Frequency</th>\n",
              "      <th>Monetary</th>\n",
              "    </tr>\n",
              "  </thead>\n",
              "  <tbody>\n",
              "    <tr>\n",
              "      <th>0</th>\n",
              "      <td>2.004230</td>\n",
              "      <td>-0.391720</td>\n",
              "      <td>-0.231001</td>\n",
              "    </tr>\n",
              "    <tr>\n",
              "      <th>1</th>\n",
              "      <td>-0.094704</td>\n",
              "      <td>0.382657</td>\n",
              "      <td>0.293432</td>\n",
              "    </tr>\n",
              "    <tr>\n",
              "      <th>2</th>\n",
              "      <td>-0.683691</td>\n",
              "      <td>-0.266959</td>\n",
              "      <td>-0.012316</td>\n",
              "    </tr>\n",
              "    <tr>\n",
              "      <th>3</th>\n",
              "      <td>-1.283386</td>\n",
              "      <td>-0.086271</td>\n",
              "      <td>-0.017146</td>\n",
              "    </tr>\n",
              "    <tr>\n",
              "      <th>4</th>\n",
              "      <td>1.832888</td>\n",
              "      <td>-0.327188</td>\n",
              "      <td>-0.190312</td>\n",
              "    </tr>\n",
              "    <tr>\n",
              "      <th>...</th>\n",
              "      <td>...</td>\n",
              "      <td>...</td>\n",
              "      <td>...</td>\n",
              "    </tr>\n",
              "    <tr>\n",
              "      <th>4367</th>\n",
              "      <td>1.490205</td>\n",
              "      <td>-0.357303</td>\n",
              "      <td>-0.209026</td>\n",
              "    </tr>\n",
              "    <tr>\n",
              "      <th>4368</th>\n",
              "      <td>0.451447</td>\n",
              "      <td>-0.370209</td>\n",
              "      <td>-0.221167</td>\n",
              "    </tr>\n",
              "    <tr>\n",
              "      <th>4369</th>\n",
              "      <td>-0.180375</td>\n",
              "      <td>-0.344397</td>\n",
              "      <td>-0.209513</td>\n",
              "    </tr>\n",
              "    <tr>\n",
              "      <th>4370</th>\n",
              "      <td>-0.469514</td>\n",
              "      <td>2.852058</td>\n",
              "      <td>0.023900</td>\n",
              "    </tr>\n",
              "    <tr>\n",
              "      <th>4371</th>\n",
              "      <td>0.676333</td>\n",
              "      <td>-0.099177</td>\n",
              "      <td>-0.007444</td>\n",
              "    </tr>\n",
              "  </tbody>\n",
              "</table>\n",
              "<p>4372 rows × 3 columns</p>\n",
              "</div>"
            ],
            "text/plain": [
              "       Recency  Frequency  Monetary\n",
              "0     2.004230  -0.391720 -0.231001\n",
              "1    -0.094704   0.382657  0.293432\n",
              "2    -0.683691  -0.266959 -0.012316\n",
              "3    -1.283386  -0.086271 -0.017146\n",
              "4     1.832888  -0.327188 -0.190312\n",
              "...        ...        ...       ...\n",
              "4367  1.490205  -0.357303 -0.209026\n",
              "4368  0.451447  -0.370209 -0.221167\n",
              "4369 -0.180375  -0.344397 -0.209513\n",
              "4370 -0.469514   2.852058  0.023900\n",
              "4371  0.676333  -0.099177 -0.007444\n",
              "\n",
              "[4372 rows x 3 columns]"
            ]
          },
          "execution_count": 14,
          "metadata": {},
          "output_type": "execute_result"
        }
      ],
      "source": [
        "x = rfm_data.iloc[:, 1:4]\n",
        "x"
      ]
    },
    {
      "cell_type": "markdown",
      "metadata": {},
      "source": [
        "### Find the Optimal value of K"
      ]
    },
    {
      "cell_type": "code",
      "execution_count": 15,
      "metadata": {},
      "outputs": [
        {
          "data": {
            "application/vnd.plotly.v1+json": {
              "config": {
                "plotlyServerURL": "https://plot.ly"
              },
              "data": [
                {
                  "mode": "lines+markers",
                  "type": "scatter",
                  "x": [
                    1,
                    2,
                    3,
                    4,
                    5,
                    6,
                    7,
                    8,
                    9,
                    10
                  ],
                  "y": [
                    13116.000000000002,
                    9006.884224616137,
                    5722.25658220212,
                    4326.82380917936,
                    3269.599178686609,
                    2670.27206506541,
                    2075.331339299668,
                    1822.6898734683168,
                    1599.5541163317419,
                    1424.0458486116004
                  ]
                }
              ],
              "layout": {
                "template": {
                  "data": {
                    "bar": [
                      {
                        "error_x": {
                          "color": "#2a3f5f"
                        },
                        "error_y": {
                          "color": "#2a3f5f"
                        },
                        "marker": {
                          "line": {
                            "color": "#E5ECF6",
                            "width": 0.5
                          },
                          "pattern": {
                            "fillmode": "overlay",
                            "size": 10,
                            "solidity": 0.2
                          }
                        },
                        "type": "bar"
                      }
                    ],
                    "barpolar": [
                      {
                        "marker": {
                          "line": {
                            "color": "#E5ECF6",
                            "width": 0.5
                          },
                          "pattern": {
                            "fillmode": "overlay",
                            "size": 10,
                            "solidity": 0.2
                          }
                        },
                        "type": "barpolar"
                      }
                    ],
                    "carpet": [
                      {
                        "aaxis": {
                          "endlinecolor": "#2a3f5f",
                          "gridcolor": "white",
                          "linecolor": "white",
                          "minorgridcolor": "white",
                          "startlinecolor": "#2a3f5f"
                        },
                        "baxis": {
                          "endlinecolor": "#2a3f5f",
                          "gridcolor": "white",
                          "linecolor": "white",
                          "minorgridcolor": "white",
                          "startlinecolor": "#2a3f5f"
                        },
                        "type": "carpet"
                      }
                    ],
                    "choropleth": [
                      {
                        "colorbar": {
                          "outlinewidth": 0,
                          "ticks": ""
                        },
                        "type": "choropleth"
                      }
                    ],
                    "contour": [
                      {
                        "colorbar": {
                          "outlinewidth": 0,
                          "ticks": ""
                        },
                        "colorscale": [
                          [
                            0,
                            "#0d0887"
                          ],
                          [
                            0.1111111111111111,
                            "#46039f"
                          ],
                          [
                            0.2222222222222222,
                            "#7201a8"
                          ],
                          [
                            0.3333333333333333,
                            "#9c179e"
                          ],
                          [
                            0.4444444444444444,
                            "#bd3786"
                          ],
                          [
                            0.5555555555555556,
                            "#d8576b"
                          ],
                          [
                            0.6666666666666666,
                            "#ed7953"
                          ],
                          [
                            0.7777777777777778,
                            "#fb9f3a"
                          ],
                          [
                            0.8888888888888888,
                            "#fdca26"
                          ],
                          [
                            1,
                            "#f0f921"
                          ]
                        ],
                        "type": "contour"
                      }
                    ],
                    "contourcarpet": [
                      {
                        "colorbar": {
                          "outlinewidth": 0,
                          "ticks": ""
                        },
                        "type": "contourcarpet"
                      }
                    ],
                    "heatmap": [
                      {
                        "colorbar": {
                          "outlinewidth": 0,
                          "ticks": ""
                        },
                        "colorscale": [
                          [
                            0,
                            "#0d0887"
                          ],
                          [
                            0.1111111111111111,
                            "#46039f"
                          ],
                          [
                            0.2222222222222222,
                            "#7201a8"
                          ],
                          [
                            0.3333333333333333,
                            "#9c179e"
                          ],
                          [
                            0.4444444444444444,
                            "#bd3786"
                          ],
                          [
                            0.5555555555555556,
                            "#d8576b"
                          ],
                          [
                            0.6666666666666666,
                            "#ed7953"
                          ],
                          [
                            0.7777777777777778,
                            "#fb9f3a"
                          ],
                          [
                            0.8888888888888888,
                            "#fdca26"
                          ],
                          [
                            1,
                            "#f0f921"
                          ]
                        ],
                        "type": "heatmap"
                      }
                    ],
                    "histogram": [
                      {
                        "marker": {
                          "pattern": {
                            "fillmode": "overlay",
                            "size": 10,
                            "solidity": 0.2
                          }
                        },
                        "type": "histogram"
                      }
                    ],
                    "histogram2d": [
                      {
                        "colorbar": {
                          "outlinewidth": 0,
                          "ticks": ""
                        },
                        "colorscale": [
                          [
                            0,
                            "#0d0887"
                          ],
                          [
                            0.1111111111111111,
                            "#46039f"
                          ],
                          [
                            0.2222222222222222,
                            "#7201a8"
                          ],
                          [
                            0.3333333333333333,
                            "#9c179e"
                          ],
                          [
                            0.4444444444444444,
                            "#bd3786"
                          ],
                          [
                            0.5555555555555556,
                            "#d8576b"
                          ],
                          [
                            0.6666666666666666,
                            "#ed7953"
                          ],
                          [
                            0.7777777777777778,
                            "#fb9f3a"
                          ],
                          [
                            0.8888888888888888,
                            "#fdca26"
                          ],
                          [
                            1,
                            "#f0f921"
                          ]
                        ],
                        "type": "histogram2d"
                      }
                    ],
                    "histogram2dcontour": [
                      {
                        "colorbar": {
                          "outlinewidth": 0,
                          "ticks": ""
                        },
                        "colorscale": [
                          [
                            0,
                            "#0d0887"
                          ],
                          [
                            0.1111111111111111,
                            "#46039f"
                          ],
                          [
                            0.2222222222222222,
                            "#7201a8"
                          ],
                          [
                            0.3333333333333333,
                            "#9c179e"
                          ],
                          [
                            0.4444444444444444,
                            "#bd3786"
                          ],
                          [
                            0.5555555555555556,
                            "#d8576b"
                          ],
                          [
                            0.6666666666666666,
                            "#ed7953"
                          ],
                          [
                            0.7777777777777778,
                            "#fb9f3a"
                          ],
                          [
                            0.8888888888888888,
                            "#fdca26"
                          ],
                          [
                            1,
                            "#f0f921"
                          ]
                        ],
                        "type": "histogram2dcontour"
                      }
                    ],
                    "mesh3d": [
                      {
                        "colorbar": {
                          "outlinewidth": 0,
                          "ticks": ""
                        },
                        "type": "mesh3d"
                      }
                    ],
                    "parcoords": [
                      {
                        "line": {
                          "colorbar": {
                            "outlinewidth": 0,
                            "ticks": ""
                          }
                        },
                        "type": "parcoords"
                      }
                    ],
                    "pie": [
                      {
                        "automargin": true,
                        "type": "pie"
                      }
                    ],
                    "scatter": [
                      {
                        "fillpattern": {
                          "fillmode": "overlay",
                          "size": 10,
                          "solidity": 0.2
                        },
                        "type": "scatter"
                      }
                    ],
                    "scatter3d": [
                      {
                        "line": {
                          "colorbar": {
                            "outlinewidth": 0,
                            "ticks": ""
                          }
                        },
                        "marker": {
                          "colorbar": {
                            "outlinewidth": 0,
                            "ticks": ""
                          }
                        },
                        "type": "scatter3d"
                      }
                    ],
                    "scattercarpet": [
                      {
                        "marker": {
                          "colorbar": {
                            "outlinewidth": 0,
                            "ticks": ""
                          }
                        },
                        "type": "scattercarpet"
                      }
                    ],
                    "scattergeo": [
                      {
                        "marker": {
                          "colorbar": {
                            "outlinewidth": 0,
                            "ticks": ""
                          }
                        },
                        "type": "scattergeo"
                      }
                    ],
                    "scattergl": [
                      {
                        "marker": {
                          "colorbar": {
                            "outlinewidth": 0,
                            "ticks": ""
                          }
                        },
                        "type": "scattergl"
                      }
                    ],
                    "scattermap": [
                      {
                        "marker": {
                          "colorbar": {
                            "outlinewidth": 0,
                            "ticks": ""
                          }
                        },
                        "type": "scattermap"
                      }
                    ],
                    "scattermapbox": [
                      {
                        "marker": {
                          "colorbar": {
                            "outlinewidth": 0,
                            "ticks": ""
                          }
                        },
                        "type": "scattermapbox"
                      }
                    ],
                    "scatterpolar": [
                      {
                        "marker": {
                          "colorbar": {
                            "outlinewidth": 0,
                            "ticks": ""
                          }
                        },
                        "type": "scatterpolar"
                      }
                    ],
                    "scatterpolargl": [
                      {
                        "marker": {
                          "colorbar": {
                            "outlinewidth": 0,
                            "ticks": ""
                          }
                        },
                        "type": "scatterpolargl"
                      }
                    ],
                    "scatterternary": [
                      {
                        "marker": {
                          "colorbar": {
                            "outlinewidth": 0,
                            "ticks": ""
                          }
                        },
                        "type": "scatterternary"
                      }
                    ],
                    "surface": [
                      {
                        "colorbar": {
                          "outlinewidth": 0,
                          "ticks": ""
                        },
                        "colorscale": [
                          [
                            0,
                            "#0d0887"
                          ],
                          [
                            0.1111111111111111,
                            "#46039f"
                          ],
                          [
                            0.2222222222222222,
                            "#7201a8"
                          ],
                          [
                            0.3333333333333333,
                            "#9c179e"
                          ],
                          [
                            0.4444444444444444,
                            "#bd3786"
                          ],
                          [
                            0.5555555555555556,
                            "#d8576b"
                          ],
                          [
                            0.6666666666666666,
                            "#ed7953"
                          ],
                          [
                            0.7777777777777778,
                            "#fb9f3a"
                          ],
                          [
                            0.8888888888888888,
                            "#fdca26"
                          ],
                          [
                            1,
                            "#f0f921"
                          ]
                        ],
                        "type": "surface"
                      }
                    ],
                    "table": [
                      {
                        "cells": {
                          "fill": {
                            "color": "#EBF0F8"
                          },
                          "line": {
                            "color": "white"
                          }
                        },
                        "header": {
                          "fill": {
                            "color": "#C8D4E3"
                          },
                          "line": {
                            "color": "white"
                          }
                        },
                        "type": "table"
                      }
                    ]
                  },
                  "layout": {
                    "annotationdefaults": {
                      "arrowcolor": "#2a3f5f",
                      "arrowhead": 0,
                      "arrowwidth": 1
                    },
                    "autotypenumbers": "strict",
                    "coloraxis": {
                      "colorbar": {
                        "outlinewidth": 0,
                        "ticks": ""
                      }
                    },
                    "colorscale": {
                      "diverging": [
                        [
                          0,
                          "#8e0152"
                        ],
                        [
                          0.1,
                          "#c51b7d"
                        ],
                        [
                          0.2,
                          "#de77ae"
                        ],
                        [
                          0.3,
                          "#f1b6da"
                        ],
                        [
                          0.4,
                          "#fde0ef"
                        ],
                        [
                          0.5,
                          "#f7f7f7"
                        ],
                        [
                          0.6,
                          "#e6f5d0"
                        ],
                        [
                          0.7,
                          "#b8e186"
                        ],
                        [
                          0.8,
                          "#7fbc41"
                        ],
                        [
                          0.9,
                          "#4d9221"
                        ],
                        [
                          1,
                          "#276419"
                        ]
                      ],
                      "sequential": [
                        [
                          0,
                          "#0d0887"
                        ],
                        [
                          0.1111111111111111,
                          "#46039f"
                        ],
                        [
                          0.2222222222222222,
                          "#7201a8"
                        ],
                        [
                          0.3333333333333333,
                          "#9c179e"
                        ],
                        [
                          0.4444444444444444,
                          "#bd3786"
                        ],
                        [
                          0.5555555555555556,
                          "#d8576b"
                        ],
                        [
                          0.6666666666666666,
                          "#ed7953"
                        ],
                        [
                          0.7777777777777778,
                          "#fb9f3a"
                        ],
                        [
                          0.8888888888888888,
                          "#fdca26"
                        ],
                        [
                          1,
                          "#f0f921"
                        ]
                      ],
                      "sequentialminus": [
                        [
                          0,
                          "#0d0887"
                        ],
                        [
                          0.1111111111111111,
                          "#46039f"
                        ],
                        [
                          0.2222222222222222,
                          "#7201a8"
                        ],
                        [
                          0.3333333333333333,
                          "#9c179e"
                        ],
                        [
                          0.4444444444444444,
                          "#bd3786"
                        ],
                        [
                          0.5555555555555556,
                          "#d8576b"
                        ],
                        [
                          0.6666666666666666,
                          "#ed7953"
                        ],
                        [
                          0.7777777777777778,
                          "#fb9f3a"
                        ],
                        [
                          0.8888888888888888,
                          "#fdca26"
                        ],
                        [
                          1,
                          "#f0f921"
                        ]
                      ]
                    },
                    "colorway": [
                      "#636efa",
                      "#EF553B",
                      "#00cc96",
                      "#ab63fa",
                      "#FFA15A",
                      "#19d3f3",
                      "#FF6692",
                      "#B6E880",
                      "#FF97FF",
                      "#FECB52"
                    ],
                    "font": {
                      "color": "#2a3f5f"
                    },
                    "geo": {
                      "bgcolor": "white",
                      "lakecolor": "white",
                      "landcolor": "#E5ECF6",
                      "showlakes": true,
                      "showland": true,
                      "subunitcolor": "white"
                    },
                    "hoverlabel": {
                      "align": "left"
                    },
                    "hovermode": "closest",
                    "mapbox": {
                      "style": "light"
                    },
                    "paper_bgcolor": "white",
                    "plot_bgcolor": "#E5ECF6",
                    "polar": {
                      "angularaxis": {
                        "gridcolor": "white",
                        "linecolor": "white",
                        "ticks": ""
                      },
                      "bgcolor": "#E5ECF6",
                      "radialaxis": {
                        "gridcolor": "white",
                        "linecolor": "white",
                        "ticks": ""
                      }
                    },
                    "scene": {
                      "xaxis": {
                        "backgroundcolor": "#E5ECF6",
                        "gridcolor": "white",
                        "gridwidth": 2,
                        "linecolor": "white",
                        "showbackground": true,
                        "ticks": "",
                        "zerolinecolor": "white"
                      },
                      "yaxis": {
                        "backgroundcolor": "#E5ECF6",
                        "gridcolor": "white",
                        "gridwidth": 2,
                        "linecolor": "white",
                        "showbackground": true,
                        "ticks": "",
                        "zerolinecolor": "white"
                      },
                      "zaxis": {
                        "backgroundcolor": "#E5ECF6",
                        "gridcolor": "white",
                        "gridwidth": 2,
                        "linecolor": "white",
                        "showbackground": true,
                        "ticks": "",
                        "zerolinecolor": "white"
                      }
                    },
                    "shapedefaults": {
                      "line": {
                        "color": "#2a3f5f"
                      }
                    },
                    "ternary": {
                      "aaxis": {
                        "gridcolor": "white",
                        "linecolor": "white",
                        "ticks": ""
                      },
                      "baxis": {
                        "gridcolor": "white",
                        "linecolor": "white",
                        "ticks": ""
                      },
                      "bgcolor": "#E5ECF6",
                      "caxis": {
                        "gridcolor": "white",
                        "linecolor": "white",
                        "ticks": ""
                      }
                    },
                    "title": {
                      "x": 0.05
                    },
                    "xaxis": {
                      "automargin": true,
                      "gridcolor": "white",
                      "linecolor": "white",
                      "ticks": "",
                      "title": {
                        "standoff": 15
                      },
                      "zerolinecolor": "white",
                      "zerolinewidth": 2
                    },
                    "yaxis": {
                      "automargin": true,
                      "gridcolor": "white",
                      "linecolor": "white",
                      "ticks": "",
                      "title": {
                        "standoff": 15
                      },
                      "zerolinecolor": "white",
                      "zerolinewidth": 2
                    }
                  }
                },
                "title": {
                  "text": "Finding K with the Elbow Technique"
                },
                "xaxis": {
                  "title": {
                    "text": "Value of K"
                  }
                },
                "yaxis": {
                  "title": {
                    "text": "Within Cluster Sum of Squared Distances"
                  }
                }
              }
            }
          },
          "metadata": {},
          "output_type": "display_data"
        }
      ],
      "source": [
        "wcsse = []\n",
        "number_clusters = [i for i in range(1,11)]\n",
        "for clusters_num in number_clusters:\n",
        "    model = KMeans(clusters_num, n_init=10)\n",
        "    model.fit(x)\n",
        "    wcsse_iter = model.inertia_\n",
        "    wcsse.append(wcsse_iter)\n",
        "fig = go.Figure(data=go.Scatter(x=number_clusters, y=wcsse, mode='lines+markers'))\n",
        "fig.update_layout(\n",
        "    title=\"Finding K with the Elbow Technique\",\n",
        "    xaxis_title=\"Value of K\",\n",
        "    yaxis_title=\"Within Cluster Sum of Squared Distances\",\n",
        ")\n",
        "fig.show()\n"
      ]
    },
    {
      "cell_type": "markdown",
      "metadata": {},
      "source": [
        "### Cluster the Data"
      ]
    },
    {
      "cell_type": "code",
      "execution_count": 16,
      "metadata": {},
      "outputs": [
        {
          "data": {
            "text/plain": [
              "ClusteredData\n",
              "0    2827\n",
              "1    1294\n",
              "2       5\n",
              "3       4\n",
              "4     242\n",
              "Name: ClusteredData, dtype: int64"
            ]
          },
          "execution_count": 16,
          "metadata": {},
          "output_type": "execute_result"
        }
      ],
      "source": [
        "model = KMeans(n_clusters=5, n_init=10)\n",
        "rfm_data['ClusteredData'] = model.fit_predict(x)\n",
        "rfm_data.groupby('ClusteredData')['ClusteredData'].agg('count')"
      ]
    },
    {
      "cell_type": "markdown",
      "metadata": {},
      "source": [
        "### Explore the Clusters"
      ]
    },
    {
      "cell_type": "code",
      "execution_count": 17,
      "metadata": {},
      "outputs": [
        {
          "data": {
            "text/html": [
              "<div>\n",
              "<style scoped>\n",
              "    .dataframe tbody tr th:only-of-type {\n",
              "        vertical-align: middle;\n",
              "    }\n",
              "\n",
              "    .dataframe tbody tr th {\n",
              "        vertical-align: top;\n",
              "    }\n",
              "\n",
              "    .dataframe thead th {\n",
              "        text-align: right;\n",
              "    }\n",
              "</style>\n",
              "<table border=\"1\" class=\"dataframe\">\n",
              "  <thead>\n",
              "    <tr style=\"text-align: right;\">\n",
              "      <th></th>\n",
              "      <th>CustomerID</th>\n",
              "      <th>Recency</th>\n",
              "      <th>Frequency</th>\n",
              "      <th>Monetary</th>\n",
              "      <th>ClusteredData</th>\n",
              "    </tr>\n",
              "  </thead>\n",
              "  <tbody>\n",
              "    <tr>\n",
              "      <th>66</th>\n",
              "      <td>12428.0</td>\n",
              "      <td>-0.319590</td>\n",
              "      <td>0.890304</td>\n",
              "      <td>0.727482</td>\n",
              "      <td>4</td>\n",
              "    </tr>\n",
              "    <tr>\n",
              "      <th>71</th>\n",
              "      <td>12433.0</td>\n",
              "      <td>-0.512349</td>\n",
              "      <td>1.406555</td>\n",
              "      <td>1.396550</td>\n",
              "      <td>4</td>\n",
              "    </tr>\n",
              "    <tr>\n",
              "      <th>86</th>\n",
              "      <td>12451.0</td>\n",
              "      <td>0.087346</td>\n",
              "      <td>1.126919</td>\n",
              "      <td>0.856013</td>\n",
              "      <td>4</td>\n",
              "    </tr>\n",
              "    <tr>\n",
              "      <th>100</th>\n",
              "      <td>12471.0</td>\n",
              "      <td>-0.490932</td>\n",
              "      <td>1.884087</td>\n",
              "      <td>2.049359</td>\n",
              "      <td>4</td>\n",
              "    </tr>\n",
              "    <tr>\n",
              "      <th>101</th>\n",
              "      <td>12472.0</td>\n",
              "      <td>0.183726</td>\n",
              "      <td>1.281794</td>\n",
              "      <td>0.526990</td>\n",
              "      <td>4</td>\n",
              "    </tr>\n",
              "    <tr>\n",
              "      <th>...</th>\n",
              "      <td>...</td>\n",
              "      <td>...</td>\n",
              "      <td>...</td>\n",
              "      <td>...</td>\n",
              "      <td>...</td>\n",
              "    </tr>\n",
              "    <tr>\n",
              "      <th>4238</th>\n",
              "      <td>18109.0</td>\n",
              "      <td>-0.512349</td>\n",
              "      <td>1.552826</td>\n",
              "      <td>0.733337</td>\n",
              "      <td>4</td>\n",
              "    </tr>\n",
              "    <tr>\n",
              "      <th>4245</th>\n",
              "      <td>18118.0</td>\n",
              "      <td>-0.512349</td>\n",
              "      <td>5.123563</td>\n",
              "      <td>0.449882</td>\n",
              "      <td>4</td>\n",
              "    </tr>\n",
              "    <tr>\n",
              "      <th>4249</th>\n",
              "      <td>18122.0</td>\n",
              "      <td>-0.587311</td>\n",
              "      <td>1.165638</td>\n",
              "      <td>-0.008791</td>\n",
              "      <td>4</td>\n",
              "    </tr>\n",
              "    <tr>\n",
              "      <th>4324</th>\n",
              "      <td>18223.0</td>\n",
              "      <td>-0.448096</td>\n",
              "      <td>0.886002</td>\n",
              "      <td>0.537424</td>\n",
              "      <td>4</td>\n",
              "    </tr>\n",
              "    <tr>\n",
              "      <th>4370</th>\n",
              "      <td>18283.0</td>\n",
              "      <td>-0.469514</td>\n",
              "      <td>2.852058</td>\n",
              "      <td>0.023900</td>\n",
              "      <td>4</td>\n",
              "    </tr>\n",
              "  </tbody>\n",
              "</table>\n",
              "<p>242 rows × 5 columns</p>\n",
              "</div>"
            ],
            "text/plain": [
              "      CustomerID   Recency  Frequency  Monetary  ClusteredData\n",
              "66       12428.0 -0.319590   0.890304  0.727482              4\n",
              "71       12433.0 -0.512349   1.406555  1.396550              4\n",
              "86       12451.0  0.087346   1.126919  0.856013              4\n",
              "100      12471.0 -0.490932   1.884087  2.049359              4\n",
              "101      12472.0  0.183726   1.281794  0.526990              4\n",
              "...          ...       ...        ...       ...            ...\n",
              "4238     18109.0 -0.512349   1.552826  0.733337              4\n",
              "4245     18118.0 -0.512349   5.123563  0.449882              4\n",
              "4249     18122.0 -0.587311   1.165638 -0.008791              4\n",
              "4324     18223.0 -0.448096   0.886002  0.537424              4\n",
              "4370     18283.0 -0.469514   2.852058  0.023900              4\n",
              "\n",
              "[242 rows x 5 columns]"
            ]
          },
          "execution_count": 17,
          "metadata": {},
          "output_type": "execute_result"
        }
      ],
      "source": [
        "cluster_0 = rfm_data[rfm_data['ClusteredData'] == 0]\n",
        "cluster_1 = rfm_data[rfm_data['ClusteredData'] == 1]\n",
        "cluster_2 = rfm_data[rfm_data['ClusteredData'] == 2]\n",
        "cluster_3 = rfm_data[rfm_data['ClusteredData'] == 3]\n",
        "cluster_4 = rfm_data[rfm_data['ClusteredData'] == 4]\n",
        "cluster_4"
      ]
    },
    {
      "cell_type": "markdown",
      "metadata": {},
      "source": [
        "### Visualize the Clusters"
      ]
    },
    {
      "cell_type": "code",
      "execution_count": 18,
      "metadata": {},
      "outputs": [
        {
          "data": {
            "application/vnd.plotly.v1+json": {
              "config": {
                "plotlyServerURL": "https://plot.ly"
              },
              "data": [
                {
                  "hovertemplate": " Customer ID:%{text} <br> Recency:%{x} <br> Frequency:%{y} <br> Amount Spent:%{z} ",
                  "marker": {
                    "color": "rgb(255,0,0)",
                    "size": 10
                  },
                  "mode": "markers",
                  "name": "Cluster 0",
                  "text": {
                    "bdata": "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",
                    "dtype": "f8"
                  },
                  "type": "scatter3d",
                  "x": {
                    "bdata": "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",
                    "dtype": "f8"
                  },
                  "y": {
                    "bdata": "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",
                    "dtype": "f8"
                  },
                  "z": {
                    "bdata": "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",
                    "dtype": "f8"
                  }
                },
                {
                  "hovertemplate": " Customer ID:%{text} <br> Recency:%{x} <br> Frequency:%{y} <br> Amount Spent:%{z} ",
                  "marker": {
                    "color": "rgb(0,255,0)",
                    "size": 10
                  },
                  "mode": "markers",
                  "name": "Cluster 1",
                  "text": {
                    "bdata": "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",
                    "dtype": "f8"
                  },
                  "type": "scatter3d",
                  "x": {
                    "bdata": "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",
                    "dtype": "f8"
                  },
                  "y": {
                    "bdata": "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",
                    "dtype": "f8"
                  },
                  "z": {
                    "bdata": "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",
                    "dtype": "f8"
                  }
                },
                {
                  "hovertemplate": " Customer ID:%{text} <br> Recency:%{x} <br> Frequency:%{y} <br> Amount Spent:%{z} ",
                  "marker": {
                    "color": "rgb(0,0,255)",
                    "size": 10
                  },
                  "mode": "markers",
                  "name": "Cluster 2",
                  "text": {
                    "bdata": "AAAAAIA/yEAAAAAAAKbLQAAAAAAAm8xAAAAAAIAK0UAAAAAAgK3RQA==",
                    "dtype": "f8"
                  },
                  "type": "scatter3d",
                  "x": {
                    "bdata": "IjqAF7NO27+E3cAGbGvfv4TdwAZsa9+/DqcAt4MM3r+sjBGm+efmvw==",
                    "dtype": "f8"
                  },
                  "y": {
                    "bdata": "9C4kodmSB0D0GPO3p9UWQP9b9aOaIyFAviN261/B8T9DcPu+U2b3Pw==",
                    "dtype": "f8"
                  },
                  "z": {
                    "bdata": "CdW/HbmlLUCt9u3EdyErQNwUE7xq40BAFjM1jtuUNkDUXqW00fg+QA==",
                    "dtype": "f8"
                  }
                },
                {
                  "hovertemplate": " Customer ID:%{text} <br> Recency:%{x} <br> Frequency:%{y} <br> Amount Spent:%{z} ",
                  "marker": {
                    "color": "rgb(255,255,0)",
                    "size": 10
                  },
                  "mode": "markers",
                  "name": "Cluster 3",
                  "text": {
                    "bdata": "AAAAAADmyEAAAAAAAIjLQAAAAACAH81AAAAAAEBs0UA=",
                    "dtype": "f8"
                  },
                  "type": "scatter3d",
                  "x": {
                    "bdata": "/YlAKypl4L/9iUArKmXgv198UBdwDeC/X3xQF3AN4L8=",
                    "dtype": "f8"
                  },
                  "y": {
                    "bdata": "bF/a3OqRM0BzMFqlKqk1QMU4Zaaz/jhAVS2Acb34QEA=",
                    "dtype": "f8"
                  },
                  "z": {
                    "bdata": "zgOPWJVzCkDJmhDMoOAaQKcPMwjlzC9AvuVY3Nm1EkA=",
                    "dtype": "f8"
                  }
                },
                {
                  "hovertemplate": " Customer ID:%{text} <br> Recency:%{x} <br> Frequency:%{y} <br> Amount Spent:%{z} ",
                  "marker": {
                    "color": "rgb(127,0,255)",
                    "size": 10
                  },
                  "mode": "markers",
                  "name": "Cluster 4",
                  "text": {
                    "bdata": "AAAAAABGyEAAAAAAgEjIQAAAAACAUchAAAAAAIBbyEAAAAAAAFzIQAAAAAAAXchAAAAAAIBeyEAAAAAAAGLIQAAAAAAAfshAAAAAAICLyEAAAAAAgKbIQAAAAAAAqchAAAAAAICuyEAAAAAAAMPIQAAAAACAxMhAAAAAAADFyEAAAAAAgMXIQAAAAACA0MhAAAAAAIDSyEAAAAAAANjIQAAAAACA3chAAAAAAADkyEAAAAAAgOjIQAAAAACA6shAAAAAAADvyEAAAAAAgBPJQAAAAACAFMlAAAAAAIAhyUAAAAAAgDLJQAAAAACAPMlAAAAAAIBByUAAAAAAgFXJQAAAAACAZMlAAAAAAABmyUAAAAAAAG3JQAAAAAAAfclAAAAAAICGyUAAAAAAAIvJQAAAAACAjMlAAAAAAICQyUAAAAAAgJTJQAAAAAAAlclAAAAAAACXyUAAAAAAgJzJQAAAAACAqMlAAAAAAACuyUAAAAAAgMzJQAAAAAAA18lAAAAAAIDnyUAAAAAAAOrJQAAAAACA6slAAAAAAIADykAAAAAAADDKQAAAAAAANcpAAAAAAIBFykAAAAAAAEnKQAAAAAAATspAAAAAAABYykAAAAAAgGjKQAAAAAAAb8pAAAAAAACyykAAAAAAAL/KQAAAAACAxspAAAAAAIDjykAAAAAAgOjKQAAAAAAA88pAAAAAAIAXy0AAAAAAgBzLQAAAAACASMtAAAAAAIBQy0AAAAAAgGfLQAAAAACAcMtAAAAAAIBxy0AAAAAAAHTLQAAAAACAdMtAAAAAAICCy0AAAAAAAITLQAAAAACAp8tAAAAAAAC5y0AAAAAAAO3LQAAAAACAD8xAAAAAAIAdzEAAAAAAgCfMQAAAAAAAMMxAAAAAAAA8zEAAAAAAAFPMQAAAAACAVMxAAAAAAIBfzEAAAAAAAGPMQAAAAAAAacxAAAAAAIBpzEAAAAAAAHHMQAAAAACAfcxAAAAAAACHzEAAAAAAgKXMQAAAAAAArMxAAAAAAACuzEAAAAAAALDMQAAAAACAtsxAAAAAAAC3zEAAAAAAALjMQAAAAACAu8xAAAAAAADFzEAAAAAAgNjMQAAAAAAA5sxAAAAAAADozEAAAAAAgADNQAAAAACAF81AAAAAAIAbzUAAAAAAACzNQAAAAACAOM1AAAAAAIBOzUAAAAAAgFbNQAAAAACAV81AAAAAAIBczUAAAAAAAF3NQAAAAACAX81AAAAAAABizUAAAAAAgGrNQAAAAAAAc81AAAAAAACXzUAAAAAAgJvNQAAAAACAqs1AAAAAAACtzUAAAAAAgMjNQAAAAACA581AAAAAAAD+zUAAAAAAAP/NQAAAAAAAC85AAAAAAIApzkAAAAAAAEXOQAAAAACATM5AAAAAAIBUzkAAAAAAgF3OQAAAAACAYc5AAAAAAABpzkAAAAAAgHjOQAAAAACAf85AAAAAAACMzkAAAAAAgLPOQAAAAACAt85AAAAAAADEzkAAAAAAgMzOQAAAAACA3s5AAAAAAADvzkAAAAAAAPjOQAAAAACA+s5AAAAAAID9zkAAAAAAgDzPQAAAAAAAP89AAAAAAIBDz0AAAAAAgEbPQAAAAACATs9AAAAAAIBQz0AAAAAAgILPQAAAAACAkM9AAAAAAICdz0AAAAAAAKnPQAAAAACAuM9AAAAAAIDmz0AAAAAAAPTPQAAAAABAAtBAAAAAAIAJ0EAAAAAAgArQQAAAAACAFtBAAAAAAMAi0EAAAAAAQCPQQAAAAABAKdBAAAAAAIAr0EAAAAAAAEvQQAAAAACAS9BAAAAAAABP0EAAAAAAQFDQQAAAAACAUdBAAAAAAABS0EAAAAAAQFLQQAAAAABAVtBAAAAAAEBa0EAAAAAAgFrQQAAAAAAAX9BAAAAAAMBi0EAAAAAAQGvQQAAAAACAa9BAAAAAAMBx0EAAAAAAwHLQQAAAAABAetBAAAAAAACC0EAAAAAAgIPQQAAAAADAhtBAAAAAAMCI0EAAAAAAAJbQQAAAAABAntBAAAAAAECm0EAAAAAAwKjQQAAAAADAtNBAAAAAAMC80EAAAAAAANHQQAAAAADA09BAAAAAAIDV0EAAAAAAwNbQQAAAAADA6NBAAAAAAEDu0EAAAAAAgO7QQAAAAAAA79BAAAAAAIDw0EAAAAAAAPXQQAAAAABA9dBAAAAAAED40EAAAAAAQPnQQAAAAABA+9BAAAAAAAD/0EAAAAAAAAXRQAAAAABAGdFAAAAAAMAZ0UAAAAAAgB7RQAAAAAAAKtFAAAAAAEAr0UAAAAAAgDDRQAAAAADAMtFAAAAAAEAz0UAAAAAAwELRQAAAAABAQ9FAAAAAAIBK0UAAAAAAwFHRQAAAAABAV9FAAAAAAIBX0UAAAAAAwGHRQAAAAADAZNFAAAAAAEBl0UAAAAAAQHDRQAAAAABActFAAAAAAACA0UAAAAAAQIfRQAAAAACAiNFAAAAAAECe0UAAAAAAwKHRQAAAAABApdFAAAAAAECv0UAAAAAAgLHRQAAAAACAstFAAAAAAMDL0UAAAAAAwNrRQA==",
                    "dtype": "f8"
                  },
                  "type": "scatter3d",
                  "x": {
                    "bdata": "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",
                    "dtype": "f8"
                  },
                  "y": {
                    "bdata": "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",
                    "dtype": "f8"
                  },
                  "z": {
                    "bdata": "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",
                    "dtype": "f8"
                  }
                }
              ],
              "layout": {
                "margin": {
                  "b": 30,
                  "l": 0,
                  "r": 0,
                  "t": 30
                },
                "scene": {
                  "xaxis": {
                    "title": {
                      "text": "Recency"
                    }
                  },
                  "yaxis": {
                    "title": {
                      "text": "Frequency"
                    }
                  },
                  "zaxis": {
                    "title": {
                      "text": "Amount Spent"
                    }
                  }
                },
                "template": {
                  "data": {
                    "bar": [
                      {
                        "error_x": {
                          "color": "#2a3f5f"
                        },
                        "error_y": {
                          "color": "#2a3f5f"
                        },
                        "marker": {
                          "line": {
                            "color": "#E5ECF6",
                            "width": 0.5
                          },
                          "pattern": {
                            "fillmode": "overlay",
                            "size": 10,
                            "solidity": 0.2
                          }
                        },
                        "type": "bar"
                      }
                    ],
                    "barpolar": [
                      {
                        "marker": {
                          "line": {
                            "color": "#E5ECF6",
                            "width": 0.5
                          },
                          "pattern": {
                            "fillmode": "overlay",
                            "size": 10,
                            "solidity": 0.2
                          }
                        },
                        "type": "barpolar"
                      }
                    ],
                    "carpet": [
                      {
                        "aaxis": {
                          "endlinecolor": "#2a3f5f",
                          "gridcolor": "white",
                          "linecolor": "white",
                          "minorgridcolor": "white",
                          "startlinecolor": "#2a3f5f"
                        },
                        "baxis": {
                          "endlinecolor": "#2a3f5f",
                          "gridcolor": "white",
                          "linecolor": "white",
                          "minorgridcolor": "white",
                          "startlinecolor": "#2a3f5f"
                        },
                        "type": "carpet"
                      }
                    ],
                    "choropleth": [
                      {
                        "colorbar": {
                          "outlinewidth": 0,
                          "ticks": ""
                        },
                        "type": "choropleth"
                      }
                    ],
                    "contour": [
                      {
                        "colorbar": {
                          "outlinewidth": 0,
                          "ticks": ""
                        },
                        "colorscale": [
                          [
                            0,
                            "#0d0887"
                          ],
                          [
                            0.1111111111111111,
                            "#46039f"
                          ],
                          [
                            0.2222222222222222,
                            "#7201a8"
                          ],
                          [
                            0.3333333333333333,
                            "#9c179e"
                          ],
                          [
                            0.4444444444444444,
                            "#bd3786"
                          ],
                          [
                            0.5555555555555556,
                            "#d8576b"
                          ],
                          [
                            0.6666666666666666,
                            "#ed7953"
                          ],
                          [
                            0.7777777777777778,
                            "#fb9f3a"
                          ],
                          [
                            0.8888888888888888,
                            "#fdca26"
                          ],
                          [
                            1,
                            "#f0f921"
                          ]
                        ],
                        "type": "contour"
                      }
                    ],
                    "contourcarpet": [
                      {
                        "colorbar": {
                          "outlinewidth": 0,
                          "ticks": ""
                        },
                        "type": "contourcarpet"
                      }
                    ],
                    "heatmap": [
                      {
                        "colorbar": {
                          "outlinewidth": 0,
                          "ticks": ""
                        },
                        "colorscale": [
                          [
                            0,
                            "#0d0887"
                          ],
                          [
                            0.1111111111111111,
                            "#46039f"
                          ],
                          [
                            0.2222222222222222,
                            "#7201a8"
                          ],
                          [
                            0.3333333333333333,
                            "#9c179e"
                          ],
                          [
                            0.4444444444444444,
                            "#bd3786"
                          ],
                          [
                            0.5555555555555556,
                            "#d8576b"
                          ],
                          [
                            0.6666666666666666,
                            "#ed7953"
                          ],
                          [
                            0.7777777777777778,
                            "#fb9f3a"
                          ],
                          [
                            0.8888888888888888,
                            "#fdca26"
                          ],
                          [
                            1,
                            "#f0f921"
                          ]
                        ],
                        "type": "heatmap"
                      }
                    ],
                    "histogram": [
                      {
                        "marker": {
                          "pattern": {
                            "fillmode": "overlay",
                            "size": 10,
                            "solidity": 0.2
                          }
                        },
                        "type": "histogram"
                      }
                    ],
                    "histogram2d": [
                      {
                        "colorbar": {
                          "outlinewidth": 0,
                          "ticks": ""
                        },
                        "colorscale": [
                          [
                            0,
                            "#0d0887"
                          ],
                          [
                            0.1111111111111111,
                            "#46039f"
                          ],
                          [
                            0.2222222222222222,
                            "#7201a8"
                          ],
                          [
                            0.3333333333333333,
                            "#9c179e"
                          ],
                          [
                            0.4444444444444444,
                            "#bd3786"
                          ],
                          [
                            0.5555555555555556,
                            "#d8576b"
                          ],
                          [
                            0.6666666666666666,
                            "#ed7953"
                          ],
                          [
                            0.7777777777777778,
                            "#fb9f3a"
                          ],
                          [
                            0.8888888888888888,
                            "#fdca26"
                          ],
                          [
                            1,
                            "#f0f921"
                          ]
                        ],
                        "type": "histogram2d"
                      }
                    ],
                    "histogram2dcontour": [
                      {
                        "colorbar": {
                          "outlinewidth": 0,
                          "ticks": ""
                        },
                        "colorscale": [
                          [
                            0,
                            "#0d0887"
                          ],
                          [
                            0.1111111111111111,
                            "#46039f"
                          ],
                          [
                            0.2222222222222222,
                            "#7201a8"
                          ],
                          [
                            0.3333333333333333,
                            "#9c179e"
                          ],
                          [
                            0.4444444444444444,
                            "#bd3786"
                          ],
                          [
                            0.5555555555555556,
                            "#d8576b"
                          ],
                          [
                            0.6666666666666666,
                            "#ed7953"
                          ],
                          [
                            0.7777777777777778,
                            "#fb9f3a"
                          ],
                          [
                            0.8888888888888888,
                            "#fdca26"
                          ],
                          [
                            1,
                            "#f0f921"
                          ]
                        ],
                        "type": "histogram2dcontour"
                      }
                    ],
                    "mesh3d": [
                      {
                        "colorbar": {
                          "outlinewidth": 0,
                          "ticks": ""
                        },
                        "type": "mesh3d"
                      }
                    ],
                    "parcoords": [
                      {
                        "line": {
                          "colorbar": {
                            "outlinewidth": 0,
                            "ticks": ""
                          }
                        },
                        "type": "parcoords"
                      }
                    ],
                    "pie": [
                      {
                        "automargin": true,
                        "type": "pie"
                      }
                    ],
                    "scatter": [
                      {
                        "fillpattern": {
                          "fillmode": "overlay",
                          "size": 10,
                          "solidity": 0.2
                        },
                        "type": "scatter"
                      }
                    ],
                    "scatter3d": [
                      {
                        "line": {
                          "colorbar": {
                            "outlinewidth": 0,
                            "ticks": ""
                          }
                        },
                        "marker": {
                          "colorbar": {
                            "outlinewidth": 0,
                            "ticks": ""
                          }
                        },
                        "type": "scatter3d"
                      }
                    ],
                    "scattercarpet": [
                      {
                        "marker": {
                          "colorbar": {
                            "outlinewidth": 0,
                            "ticks": ""
                          }
                        },
                        "type": "scattercarpet"
                      }
                    ],
                    "scattergeo": [
                      {
                        "marker": {
                          "colorbar": {
                            "outlinewidth": 0,
                            "ticks": ""
                          }
                        },
                        "type": "scattergeo"
                      }
                    ],
                    "scattergl": [
                      {
                        "marker": {
                          "colorbar": {
                            "outlinewidth": 0,
                            "ticks": ""
                          }
                        },
                        "type": "scattergl"
                      }
                    ],
                    "scattermap": [
                      {
                        "marker": {
                          "colorbar": {
                            "outlinewidth": 0,
                            "ticks": ""
                          }
                        },
                        "type": "scattermap"
                      }
                    ],
                    "scattermapbox": [
                      {
                        "marker": {
                          "colorbar": {
                            "outlinewidth": 0,
                            "ticks": ""
                          }
                        },
                        "type": "scattermapbox"
                      }
                    ],
                    "scatterpolar": [
                      {
                        "marker": {
                          "colorbar": {
                            "outlinewidth": 0,
                            "ticks": ""
                          }
                        },
                        "type": "scatterpolar"
                      }
                    ],
                    "scatterpolargl": [
                      {
                        "marker": {
                          "colorbar": {
                            "outlinewidth": 0,
                            "ticks": ""
                          }
                        },
                        "type": "scatterpolargl"
                      }
                    ],
                    "scatterternary": [
                      {
                        "marker": {
                          "colorbar": {
                            "outlinewidth": 0,
                            "ticks": ""
                          }
                        },
                        "type": "scatterternary"
                      }
                    ],
                    "surface": [
                      {
                        "colorbar": {
                          "outlinewidth": 0,
                          "ticks": ""
                        },
                        "colorscale": [
                          [
                            0,
                            "#0d0887"
                          ],
                          [
                            0.1111111111111111,
                            "#46039f"
                          ],
                          [
                            0.2222222222222222,
                            "#7201a8"
                          ],
                          [
                            0.3333333333333333,
                            "#9c179e"
                          ],
                          [
                            0.4444444444444444,
                            "#bd3786"
                          ],
                          [
                            0.5555555555555556,
                            "#d8576b"
                          ],
                          [
                            0.6666666666666666,
                            "#ed7953"
                          ],
                          [
                            0.7777777777777778,
                            "#fb9f3a"
                          ],
                          [
                            0.8888888888888888,
                            "#fdca26"
                          ],
                          [
                            1,
                            "#f0f921"
                          ]
                        ],
                        "type": "surface"
                      }
                    ],
                    "table": [
                      {
                        "cells": {
                          "fill": {
                            "color": "#EBF0F8"
                          },
                          "line": {
                            "color": "white"
                          }
                        },
                        "header": {
                          "fill": {
                            "color": "#C8D4E3"
                          },
                          "line": {
                            "color": "white"
                          }
                        },
                        "type": "table"
                      }
                    ]
                  },
                  "layout": {
                    "annotationdefaults": {
                      "arrowcolor": "#2a3f5f",
                      "arrowhead": 0,
                      "arrowwidth": 1
                    },
                    "autotypenumbers": "strict",
                    "coloraxis": {
                      "colorbar": {
                        "outlinewidth": 0,
                        "ticks": ""
                      }
                    },
                    "colorscale": {
                      "diverging": [
                        [
                          0,
                          "#8e0152"
                        ],
                        [
                          0.1,
                          "#c51b7d"
                        ],
                        [
                          0.2,
                          "#de77ae"
                        ],
                        [
                          0.3,
                          "#f1b6da"
                        ],
                        [
                          0.4,
                          "#fde0ef"
                        ],
                        [
                          0.5,
                          "#f7f7f7"
                        ],
                        [
                          0.6,
                          "#e6f5d0"
                        ],
                        [
                          0.7,
                          "#b8e186"
                        ],
                        [
                          0.8,
                          "#7fbc41"
                        ],
                        [
                          0.9,
                          "#4d9221"
                        ],
                        [
                          1,
                          "#276419"
                        ]
                      ],
                      "sequential": [
                        [
                          0,
                          "#0d0887"
                        ],
                        [
                          0.1111111111111111,
                          "#46039f"
                        ],
                        [
                          0.2222222222222222,
                          "#7201a8"
                        ],
                        [
                          0.3333333333333333,
                          "#9c179e"
                        ],
                        [
                          0.4444444444444444,
                          "#bd3786"
                        ],
                        [
                          0.5555555555555556,
                          "#d8576b"
                        ],
                        [
                          0.6666666666666666,
                          "#ed7953"
                        ],
                        [
                          0.7777777777777778,
                          "#fb9f3a"
                        ],
                        [
                          0.8888888888888888,
                          "#fdca26"
                        ],
                        [
                          1,
                          "#f0f921"
                        ]
                      ],
                      "sequentialminus": [
                        [
                          0,
                          "#0d0887"
                        ],
                        [
                          0.1111111111111111,
                          "#46039f"
                        ],
                        [
                          0.2222222222222222,
                          "#7201a8"
                        ],
                        [
                          0.3333333333333333,
                          "#9c179e"
                        ],
                        [
                          0.4444444444444444,
                          "#bd3786"
                        ],
                        [
                          0.5555555555555556,
                          "#d8576b"
                        ],
                        [
                          0.6666666666666666,
                          "#ed7953"
                        ],
                        [
                          0.7777777777777778,
                          "#fb9f3a"
                        ],
                        [
                          0.8888888888888888,
                          "#fdca26"
                        ],
                        [
                          1,
                          "#f0f921"
                        ]
                      ]
                    },
                    "colorway": [
                      "#636efa",
                      "#EF553B",
                      "#00cc96",
                      "#ab63fa",
                      "#FFA15A",
                      "#19d3f3",
                      "#FF6692",
                      "#B6E880",
                      "#FF97FF",
                      "#FECB52"
                    ],
                    "font": {
                      "color": "#2a3f5f"
                    },
                    "geo": {
                      "bgcolor": "white",
                      "lakecolor": "white",
                      "landcolor": "#E5ECF6",
                      "showlakes": true,
                      "showland": true,
                      "subunitcolor": "white"
                    },
                    "hoverlabel": {
                      "align": "left"
                    },
                    "hovermode": "closest",
                    "mapbox": {
                      "style": "light"
                    },
                    "paper_bgcolor": "white",
                    "plot_bgcolor": "#E5ECF6",
                    "polar": {
                      "angularaxis": {
                        "gridcolor": "white",
                        "linecolor": "white",
                        "ticks": ""
                      },
                      "bgcolor": "#E5ECF6",
                      "radialaxis": {
                        "gridcolor": "white",
                        "linecolor": "white",
                        "ticks": ""
                      }
                    },
                    "scene": {
                      "xaxis": {
                        "backgroundcolor": "#E5ECF6",
                        "gridcolor": "white",
                        "gridwidth": 2,
                        "linecolor": "white",
                        "showbackground": true,
                        "ticks": "",
                        "zerolinecolor": "white"
                      },
                      "yaxis": {
                        "backgroundcolor": "#E5ECF6",
                        "gridcolor": "white",
                        "gridwidth": 2,
                        "linecolor": "white",
                        "showbackground": true,
                        "ticks": "",
                        "zerolinecolor": "white"
                      },
                      "zaxis": {
                        "backgroundcolor": "#E5ECF6",
                        "gridcolor": "white",
                        "gridwidth": 2,
                        "linecolor": "white",
                        "showbackground": true,
                        "ticks": "",
                        "zerolinecolor": "white"
                      }
                    },
                    "shapedefaults": {
                      "line": {
                        "color": "#2a3f5f"
                      }
                    },
                    "ternary": {
                      "aaxis": {
                        "gridcolor": "white",
                        "linecolor": "white",
                        "ticks": ""
                      },
                      "baxis": {
                        "gridcolor": "white",
                        "linecolor": "white",
                        "ticks": ""
                      },
                      "bgcolor": "#E5ECF6",
                      "caxis": {
                        "gridcolor": "white",
                        "linecolor": "white",
                        "ticks": ""
                      }
                    },
                    "title": {
                      "x": 0.05
                    },
                    "xaxis": {
                      "automargin": true,
                      "gridcolor": "white",
                      "linecolor": "white",
                      "ticks": "",
                      "title": {
                        "standoff": 15
                      },
                      "zerolinecolor": "white",
                      "zerolinewidth": 2
                    },
                    "yaxis": {
                      "automargin": true,
                      "gridcolor": "white",
                      "linecolor": "white",
                      "ticks": "",
                      "title": {
                        "standoff": 15
                      },
                      "zerolinecolor": "white",
                      "zerolinewidth": 2
                    }
                  }
                },
                "title": {
                  "text": "Customer Segmentation"
                }
              }
            }
          },
          "metadata": {},
          "output_type": "display_data"
        }
      ],
      "source": [
        "trace0 = go.Scatter3d(\n",
        "        x=cluster_0.Recency,\n",
        "        y=cluster_0.Frequency,\n",
        "        z=cluster_0.Monetary,\n",
        "        text=cluster_0.CustomerID,\n",
        "        mode=\"markers\",\n",
        "        marker=dict(\n",
        "                    size=10,\n",
        "                    color=\"rgb(255,0,0)\",  # set color to desired value \n",
        "        ),\n",
        "        name=\"Cluster 0\"\n",
        ")\n",
        "trace1 = go.Scatter3d(\n",
        "        x=cluster_1.Recency,\n",
        "        y=cluster_1.Frequency,\n",
        "        z=cluster_1.Monetary,\n",
        "        text=cluster_1['CustomerID'],\n",
        "        mode=\"markers\",\n",
        "        marker=dict(\n",
        "                    size=10,\n",
        "                    color=\"rgb(0,255,0)\",  \n",
        "        ),\n",
        "        name=\"Cluster 1\"\n",
        ")\n",
        "trace2 = go.Scatter3d(\n",
        "        x=cluster_2.Recency,\n",
        "        y=cluster_2.Frequency,\n",
        "        z=cluster_2.Monetary,\n",
        "        text=cluster_2['CustomerID'],\n",
        "        mode=\"markers\",\n",
        "        marker=dict(\n",
        "                    size=10,\n",
        "                    color=\"rgb(0,0,255)\", \n",
        "        ),\n",
        "        name=\"Cluster 2\"\n",
        ")\n",
        "trace3 = go.Scatter3d(\n",
        "        x=cluster_3.Recency,\n",
        "        y=cluster_3.Frequency,\n",
        "        z=cluster_3.Monetary,\n",
        "        text=cluster_3['CustomerID'],\n",
        "        mode=\"markers\",\n",
        "        marker=dict(\n",
        "                    size=10,\n",
        "                    color=\"rgb(255,255,0)\", \n",
        "        ),\n",
        "        name=\"Cluster 3\"\n",
        ")\n",
        "trace4 = go.Scatter3d(\n",
        "        x=cluster_4.Recency,\n",
        "        y=cluster_4.Frequency,\n",
        "        z=cluster_4.Monetary,\n",
        "        text=cluster_4['CustomerID'],\n",
        "        mode=\"markers\",\n",
        "        marker=dict(\n",
        "                    size=10,\n",
        "                    color=\"rgb(127,0,255)\",\n",
        "        ),\n",
        "        name=\"Cluster 4\"\n",
        ")\n",
        "\n",
        "# Create a list of traces\n",
        "data_plot_km = [trace0,trace1,trace2,trace3,trace4]\n",
        "\n",
        "# Create a Figure object\n",
        "layout = go.Layout (\n",
        "        margin=dict(l=0, r=0, b=30, t=30), title='Customer Segmentation',\n",
        "        scene = dict(\n",
        "            xaxis = dict (title = \"Recency\"),\n",
        "            yaxis = dict (title = \"Frequency\"),\n",
        "            zaxis = dict (title = \"Amount Spent\")\n",
        "        )\n",
        "    )\n",
        "fig = go.Figure(data = data_plot_km, layout = layout)\n",
        "\n",
        "# Update the data point labels\n",
        "fig.update_traces( hovertemplate=\" Customer ID:%{text} <br> Recency:%{x} <br> Frequency:%{y} <br> Amount Spent:%{z} \")\n",
        "fig.show()"
      ]
    }
  ],
  "metadata": {
    "colab": {
      "provenance": []
    },
    "kernelspec": {
      "display_name": "Python 3",
      "language": "python",
      "name": "python3"
    },
    "language_info": {
      "codemirror_mode": {
        "name": "ipython",
        "version": 3
      },
      "file_extension": ".py",
      "mimetype": "text/x-python",
      "name": "python",
      "nbconvert_exporter": "python",
      "pygments_lexer": "ipython3",
      "version": "3.8.10"
    },
    "vscode": {
      "interpreter": {
        "hash": "767d51c1340bd893661ea55ea3124f6de3c7a262a8b4abca0554b478b1e2ff90"
      }
    }
  },
  "nbformat": 4,
  "nbformat_minor": 0
}
